{
 "cells": [
  {
   "cell_type": "code",
   "execution_count": 1,
   "id": "e946ed66",
   "metadata": {
    "ExecuteTime": {
     "end_time": "2022-04-10T10:11:21.740994Z",
     "start_time": "2022-04-10T10:11:20.013113Z"
    }
   },
   "outputs": [
    {
     "name": "stderr",
     "output_type": "stream",
     "text": [
      "/Users/xulian/anaconda3/lib/python3.8/site-packages/xgboost/compat.py:36: FutureWarning: pandas.Int64Index is deprecated and will be removed from pandas in a future version. Use pandas.Index with the appropriate dtype instead.\n",
      "  from pandas import MultiIndex, Int64Index\n"
     ]
    }
   ],
   "source": [
    "import os\n",
    "import re\n",
    "import sklearn\n",
    "import numpy as np \n",
    "import pandas as pd\n",
    "import seaborn as sns\n",
    "import matplotlib.pyplot as plt\n",
    "from IPython.core.pylabtools import figsize\n",
    "from collections import Counter\n",
    "\n",
    "import xgboost as xgb\n",
    "import statsmodels.api as sm\n",
    "from sklearn.pipeline import make_pipeline\n",
    "from sklearn.model_selection import KFold\n",
    "from sklearn.metrics import log_loss\n",
    "from scipy.interpolate import UnivariateSpline\n",
    "from scipy.special import expit"
   ]
  },
  {
   "cell_type": "code",
   "execution_count": 2,
   "id": "7f55a3ce",
   "metadata": {
    "ExecuteTime": {
     "end_time": "2022-04-10T10:11:22.816623Z",
     "start_time": "2022-04-10T10:11:22.813665Z"
    }
   },
   "outputs": [],
   "source": [
    "pd.set_option('display.max_columns', None)"
   ]
  },
  {
   "cell_type": "code",
   "execution_count": 3,
   "id": "c01ef9bd",
   "metadata": {
    "ExecuteTime": {
     "end_time": "2022-04-10T10:11:23.108459Z",
     "start_time": "2022-04-10T10:11:23.105369Z"
    }
   },
   "outputs": [],
   "source": [
    "import warnings\n",
    "warnings.filterwarnings('ignore')"
   ]
  },
  {
   "cell_type": "code",
   "execution_count": 4,
   "id": "780bbfa1",
   "metadata": {
    "ExecuteTime": {
     "end_time": "2022-04-10T10:11:23.332440Z",
     "start_time": "2022-04-10T10:11:23.324962Z"
    }
   },
   "outputs": [
    {
     "data": {
      "text/plain": [
       "['538ratingsWomen.csv',\n",
       " 'WTeams.csv',\n",
       " 'WNCAATourneySlots2022.csv',\n",
       " 'WSampleSubmissionStage2.csv',\n",
       " 'WNCAATourneyDetailedResults.csv',\n",
       " 'WNCAATourneyCompactResults.csv',\n",
       " 'WSeasons.csv',\n",
       " 'Cities.csv',\n",
       " 'WRegularSeasonCompactResults.csv',\n",
       " 'WTeamSpellings.csv',\n",
       " 'WRegularSeasonDetailedResults.csv',\n",
       " 'WNCAATourneySeeds.csv',\n",
       " 'WTeamConferences.csv',\n",
       " 'WNCAATourneySlots1998thru2021.csv',\n",
       " 'Conferences.csv',\n",
       " 'WGameCities.csv']"
      ]
     },
     "execution_count": 4,
     "metadata": {},
     "output_type": "execute_result"
    }
   ],
   "source": [
    "directory = 'WDataFiles_Stage2'\n",
    "os.listdir(directory)"
   ]
  },
  {
   "cell_type": "markdown",
   "id": "1c5aca3e",
   "metadata": {},
   "source": [
    "## Data Prep"
   ]
  },
  {
   "cell_type": "code",
   "execution_count": 5,
   "id": "779ccb29",
   "metadata": {
    "ExecuteTime": {
     "end_time": "2022-04-10T10:11:24.159262Z",
     "start_time": "2022-04-10T10:11:24.156196Z"
    }
   },
   "outputs": [],
   "source": [
    "seasons = [2016, 2017, 2018, 2019, 2021, 2022]"
   ]
  },
  {
   "cell_type": "markdown",
   "id": "72b37e74",
   "metadata": {},
   "source": [
    "### Seeds"
   ]
  },
  {
   "cell_type": "code",
   "execution_count": 6,
   "id": "b7f18f2f",
   "metadata": {
    "ExecuteTime": {
     "end_time": "2022-04-10T10:11:24.831274Z",
     "start_time": "2022-04-10T10:11:24.821349Z"
    }
   },
   "outputs": [
    {
     "data": {
      "text/plain": [
       "(388, 3)"
      ]
     },
     "execution_count": 6,
     "metadata": {},
     "output_type": "execute_result"
    }
   ],
   "source": [
    "df_seeds = pd.read_csv(f'{directory}/WNCAATourneySeeds.csv')\n",
    "df_seeds = df_seeds[df_seeds['Season'].isin(seasons)]\n",
    "df_seeds.shape"
   ]
  },
  {
   "cell_type": "code",
   "execution_count": 7,
   "id": "30a86845",
   "metadata": {
    "ExecuteTime": {
     "end_time": "2022-04-10T10:11:25.128260Z",
     "start_time": "2022-04-10T10:11:25.121691Z"
    }
   },
   "outputs": [
    {
     "data": {
      "text/plain": [
       "Season\n",
       "2016    64\n",
       "2017    64\n",
       "2018    64\n",
       "2019    64\n",
       "2021    64\n",
       "2022    68\n",
       "Name: TeamID, dtype: int64"
      ]
     },
     "execution_count": 7,
     "metadata": {},
     "output_type": "execute_result"
    }
   ],
   "source": [
    "# Check\n",
    "df_seeds.groupby('Season')['TeamID'].count()"
   ]
  },
  {
   "cell_type": "markdown",
   "id": "911ba989",
   "metadata": {},
   "source": [
    "### 538"
   ]
  },
  {
   "cell_type": "markdown",
   "id": "6e1e3c82",
   "metadata": {},
   "source": [
    "Load 538 dataset: https://www.kaggle.com/datasets/raddar/ncaa-women-538-team-ratings"
   ]
  },
  {
   "cell_type": "code",
   "execution_count": 8,
   "id": "976709a7",
   "metadata": {
    "ExecuteTime": {
     "end_time": "2022-04-10T10:11:26.941331Z",
     "start_time": "2022-04-10T10:11:26.934458Z"
    }
   },
   "outputs": [
    {
     "data": {
      "text/plain": [
       "{2016, 2017, 2018, 2019, 2021, 2022}"
      ]
     },
     "execution_count": 8,
     "metadata": {},
     "output_type": "execute_result"
    }
   ],
   "source": [
    "df_538 = pd.read_csv(f'{directory}/538ratingsWomen.csv')\n",
    "set(df_538.Season)"
   ]
  },
  {
   "cell_type": "markdown",
   "id": "ec1d7dcf",
   "metadata": {},
   "source": [
    "### Season Results"
   ]
  },
  {
   "cell_type": "code",
   "execution_count": 9,
   "id": "c3e44b93",
   "metadata": {
    "ExecuteTime": {
     "end_time": "2022-04-10T10:11:29.472056Z",
     "start_time": "2022-04-10T10:11:29.265996Z"
    }
   },
   "outputs": [],
   "source": [
    "df_season_res = pd.read_csv(f'{directory}/WRegularSeasonDetailedResults.csv')\n",
    "df_season_res = df_season_res[df_season_res['Season'].isin(seasons)]"
   ]
  },
  {
   "cell_type": "markdown",
   "id": "afe1b5ad",
   "metadata": {},
   "source": [
    "Duplicate records by switching"
   ]
  },
  {
   "cell_type": "code",
   "execution_count": 10,
   "id": "5377efdb",
   "metadata": {
    "ExecuteTime": {
     "end_time": "2022-04-10T10:11:30.125699Z",
     "start_time": "2022-04-10T10:11:30.120639Z"
    }
   },
   "outputs": [],
   "source": [
    "def prepare_data(df):\n",
    "    df['LLoc'] = df['WLoc'].map({'N': 'N', 'H': 'A', 'A': 'H'})\n",
    "    \n",
    "    w_df = df.copy()\n",
    "    l_df = df.copy()\n",
    "    \n",
    "    w_df = w_df.rename(columns={col: f'A{col[1:]}'\n",
    "                                for col in w_df.columns\n",
    "                                if col.startswith('W')})\\\n",
    "               .rename(columns={col: f'B{col[1:]}'\n",
    "                                for col in w_df.columns\n",
    "                                if col.startswith('L')})\n",
    "    l_df = l_df.rename(columns={col: f'B{col[1:]}'\n",
    "                                for col in l_df.columns\n",
    "                                if col.startswith('W')})\\\n",
    "               .rename(columns={col: f'A{col[1:]}'\n",
    "                                for col in l_df.columns\n",
    "                                if col.startswith('L')})\n",
    "    \n",
    "    return pd.concat([w_df, l_df]).reset_index().drop('index', axis=1)"
   ]
  },
  {
   "cell_type": "code",
   "execution_count": 11,
   "id": "905bc5fe",
   "metadata": {
    "ExecuteTime": {
     "end_time": "2022-04-10T10:11:31.578725Z",
     "start_time": "2022-04-10T10:11:31.447708Z"
    }
   },
   "outputs": [
    {
     "name": "stdout",
     "output_type": "stream",
     "text": [
      "Before data prep: (29484, 34)\n",
      "After data prep: (58968, 35)\n"
     ]
    },
    {
     "data": {
      "text/html": [
       "<div>\n",
       "<style scoped>\n",
       "    .dataframe tbody tr th:only-of-type {\n",
       "        vertical-align: middle;\n",
       "    }\n",
       "\n",
       "    .dataframe tbody tr th {\n",
       "        vertical-align: top;\n",
       "    }\n",
       "\n",
       "    .dataframe thead th {\n",
       "        text-align: right;\n",
       "    }\n",
       "</style>\n",
       "<table border=\"1\" class=\"dataframe\">\n",
       "  <thead>\n",
       "    <tr style=\"text-align: right;\">\n",
       "      <th></th>\n",
       "      <th>Season</th>\n",
       "      <th>DayNum</th>\n",
       "      <th>ATeamID</th>\n",
       "      <th>AScore</th>\n",
       "      <th>BTeamID</th>\n",
       "      <th>BScore</th>\n",
       "      <th>ALoc</th>\n",
       "      <th>NumOT</th>\n",
       "      <th>AFGM</th>\n",
       "      <th>AFGA</th>\n",
       "      <th>AFGM3</th>\n",
       "      <th>AFGA3</th>\n",
       "      <th>AFTM</th>\n",
       "      <th>AFTA</th>\n",
       "      <th>AOR</th>\n",
       "      <th>ADR</th>\n",
       "      <th>AAst</th>\n",
       "      <th>ATO</th>\n",
       "      <th>AStl</th>\n",
       "      <th>ABlk</th>\n",
       "      <th>APF</th>\n",
       "      <th>BFGM</th>\n",
       "      <th>BFGA</th>\n",
       "      <th>BFGM3</th>\n",
       "      <th>BFGA3</th>\n",
       "      <th>BFTM</th>\n",
       "      <th>BFTA</th>\n",
       "      <th>BOR</th>\n",
       "      <th>BDR</th>\n",
       "      <th>BAst</th>\n",
       "      <th>BTO</th>\n",
       "      <th>BStl</th>\n",
       "      <th>BBlk</th>\n",
       "      <th>BPF</th>\n",
       "      <th>BLoc</th>\n",
       "    </tr>\n",
       "  </thead>\n",
       "  <tbody>\n",
       "    <tr>\n",
       "      <th>0</th>\n",
       "      <td>2016</td>\n",
       "      <td>11</td>\n",
       "      <td>3104</td>\n",
       "      <td>96</td>\n",
       "      <td>3105</td>\n",
       "      <td>44</td>\n",
       "      <td>H</td>\n",
       "      <td>0</td>\n",
       "      <td>34</td>\n",
       "      <td>78</td>\n",
       "      <td>6</td>\n",
       "      <td>30</td>\n",
       "      <td>22</td>\n",
       "      <td>34</td>\n",
       "      <td>20</td>\n",
       "      <td>32</td>\n",
       "      <td>12</td>\n",
       "      <td>14</td>\n",
       "      <td>12</td>\n",
       "      <td>14</td>\n",
       "      <td>21</td>\n",
       "      <td>16</td>\n",
       "      <td>59</td>\n",
       "      <td>0</td>\n",
       "      <td>8</td>\n",
       "      <td>12</td>\n",
       "      <td>20</td>\n",
       "      <td>13</td>\n",
       "      <td>29</td>\n",
       "      <td>6</td>\n",
       "      <td>28</td>\n",
       "      <td>5</td>\n",
       "      <td>0</td>\n",
       "      <td>27</td>\n",
       "      <td>A</td>\n",
       "    </tr>\n",
       "    <tr>\n",
       "      <th>1</th>\n",
       "      <td>2016</td>\n",
       "      <td>11</td>\n",
       "      <td>3116</td>\n",
       "      <td>97</td>\n",
       "      <td>3368</td>\n",
       "      <td>53</td>\n",
       "      <td>H</td>\n",
       "      <td>0</td>\n",
       "      <td>37</td>\n",
       "      <td>88</td>\n",
       "      <td>7</td>\n",
       "      <td>22</td>\n",
       "      <td>16</td>\n",
       "      <td>25</td>\n",
       "      <td>28</td>\n",
       "      <td>31</td>\n",
       "      <td>23</td>\n",
       "      <td>15</td>\n",
       "      <td>14</td>\n",
       "      <td>0</td>\n",
       "      <td>21</td>\n",
       "      <td>19</td>\n",
       "      <td>56</td>\n",
       "      <td>8</td>\n",
       "      <td>24</td>\n",
       "      <td>7</td>\n",
       "      <td>12</td>\n",
       "      <td>5</td>\n",
       "      <td>29</td>\n",
       "      <td>10</td>\n",
       "      <td>27</td>\n",
       "      <td>4</td>\n",
       "      <td>2</td>\n",
       "      <td>27</td>\n",
       "      <td>A</td>\n",
       "    </tr>\n",
       "    <tr>\n",
       "      <th>2</th>\n",
       "      <td>2016</td>\n",
       "      <td>11</td>\n",
       "      <td>3119</td>\n",
       "      <td>63</td>\n",
       "      <td>3337</td>\n",
       "      <td>53</td>\n",
       "      <td>H</td>\n",
       "      <td>0</td>\n",
       "      <td>23</td>\n",
       "      <td>57</td>\n",
       "      <td>6</td>\n",
       "      <td>16</td>\n",
       "      <td>11</td>\n",
       "      <td>20</td>\n",
       "      <td>13</td>\n",
       "      <td>31</td>\n",
       "      <td>11</td>\n",
       "      <td>17</td>\n",
       "      <td>9</td>\n",
       "      <td>3</td>\n",
       "      <td>13</td>\n",
       "      <td>20</td>\n",
       "      <td>60</td>\n",
       "      <td>4</td>\n",
       "      <td>15</td>\n",
       "      <td>9</td>\n",
       "      <td>10</td>\n",
       "      <td>9</td>\n",
       "      <td>25</td>\n",
       "      <td>7</td>\n",
       "      <td>18</td>\n",
       "      <td>9</td>\n",
       "      <td>0</td>\n",
       "      <td>24</td>\n",
       "      <td>A</td>\n",
       "    </tr>\n",
       "    <tr>\n",
       "      <th>3</th>\n",
       "      <td>2016</td>\n",
       "      <td>11</td>\n",
       "      <td>3120</td>\n",
       "      <td>85</td>\n",
       "      <td>3412</td>\n",
       "      <td>71</td>\n",
       "      <td>H</td>\n",
       "      <td>0</td>\n",
       "      <td>34</td>\n",
       "      <td>64</td>\n",
       "      <td>10</td>\n",
       "      <td>30</td>\n",
       "      <td>7</td>\n",
       "      <td>12</td>\n",
       "      <td>11</td>\n",
       "      <td>21</td>\n",
       "      <td>21</td>\n",
       "      <td>9</td>\n",
       "      <td>9</td>\n",
       "      <td>3</td>\n",
       "      <td>18</td>\n",
       "      <td>26</td>\n",
       "      <td>55</td>\n",
       "      <td>12</td>\n",
       "      <td>28</td>\n",
       "      <td>7</td>\n",
       "      <td>14</td>\n",
       "      <td>10</td>\n",
       "      <td>21</td>\n",
       "      <td>16</td>\n",
       "      <td>17</td>\n",
       "      <td>6</td>\n",
       "      <td>1</td>\n",
       "      <td>17</td>\n",
       "      <td>A</td>\n",
       "    </tr>\n",
       "    <tr>\n",
       "      <th>4</th>\n",
       "      <td>2016</td>\n",
       "      <td>11</td>\n",
       "      <td>3124</td>\n",
       "      <td>62</td>\n",
       "      <td>3426</td>\n",
       "      <td>20</td>\n",
       "      <td>H</td>\n",
       "      <td>0</td>\n",
       "      <td>22</td>\n",
       "      <td>61</td>\n",
       "      <td>3</td>\n",
       "      <td>12</td>\n",
       "      <td>15</td>\n",
       "      <td>28</td>\n",
       "      <td>21</td>\n",
       "      <td>28</td>\n",
       "      <td>19</td>\n",
       "      <td>14</td>\n",
       "      <td>18</td>\n",
       "      <td>6</td>\n",
       "      <td>13</td>\n",
       "      <td>8</td>\n",
       "      <td>40</td>\n",
       "      <td>1</td>\n",
       "      <td>11</td>\n",
       "      <td>3</td>\n",
       "      <td>10</td>\n",
       "      <td>7</td>\n",
       "      <td>23</td>\n",
       "      <td>4</td>\n",
       "      <td>30</td>\n",
       "      <td>4</td>\n",
       "      <td>2</td>\n",
       "      <td>21</td>\n",
       "      <td>A</td>\n",
       "    </tr>\n",
       "  </tbody>\n",
       "</table>\n",
       "</div>"
      ],
      "text/plain": [
       "   Season  DayNum  ATeamID  AScore  BTeamID  BScore ALoc  NumOT  AFGM  AFGA  \\\n",
       "0    2016      11     3104      96     3105      44    H      0    34    78   \n",
       "1    2016      11     3116      97     3368      53    H      0    37    88   \n",
       "2    2016      11     3119      63     3337      53    H      0    23    57   \n",
       "3    2016      11     3120      85     3412      71    H      0    34    64   \n",
       "4    2016      11     3124      62     3426      20    H      0    22    61   \n",
       "\n",
       "   AFGM3  AFGA3  AFTM  AFTA  AOR  ADR  AAst  ATO  AStl  ABlk  APF  BFGM  BFGA  \\\n",
       "0      6     30    22    34   20   32    12   14    12    14   21    16    59   \n",
       "1      7     22    16    25   28   31    23   15    14     0   21    19    56   \n",
       "2      6     16    11    20   13   31    11   17     9     3   13    20    60   \n",
       "3     10     30     7    12   11   21    21    9     9     3   18    26    55   \n",
       "4      3     12    15    28   21   28    19   14    18     6   13     8    40   \n",
       "\n",
       "   BFGM3  BFGA3  BFTM  BFTA  BOR  BDR  BAst  BTO  BStl  BBlk  BPF BLoc  \n",
       "0      0      8    12    20   13   29     6   28     5     0   27    A  \n",
       "1      8     24     7    12    5   29    10   27     4     2   27    A  \n",
       "2      4     15     9    10    9   25     7   18     9     0   24    A  \n",
       "3     12     28     7    14   10   21    16   17     6     1   17    A  \n",
       "4      1     11     3    10    7   23     4   30     4     2   21    A  "
      ]
     },
     "execution_count": 11,
     "metadata": {},
     "output_type": "execute_result"
    }
   ],
   "source": [
    "print('Before data prep:', df_season_res.shape)\n",
    "df_season_res = prepare_data(df_season_res)\n",
    "print('After data prep:', df_season_res.shape)\n",
    "df_season_res.head()"
   ]
  },
  {
   "cell_type": "markdown",
   "id": "233bfaba",
   "metadata": {},
   "source": [
    "Use Kenpom's coefficient (https://kenpom.com/blog/the-possession/) on free throw to estimate numbers of possessions of games.  \n",
    "To avoid scenarios that losing teams have a better points per possession than winning teams, average the numbers from both sides."
   ]
  },
  {
   "cell_type": "code",
   "execution_count": 12,
   "id": "96ca4d36",
   "metadata": {
    "ExecuteTime": {
     "end_time": "2022-04-10T10:11:33.589723Z",
     "start_time": "2022-04-10T10:11:33.585440Z"
    }
   },
   "outputs": [],
   "source": [
    "def compute_possession(df):\n",
    "    # Use kenpom's calculation\n",
    "    for side in ['A', 'B']:\n",
    "        df[f'{side}Poss'] = df[f'{side}FGA'] - df[f'{side}OR'] + \\\n",
    "                            df[f'{side}TO'] + 0.44 * df[f'{side}FTA']\n",
    "    df['Poss'] = (df['APoss'] + df['BPoss']) / 2\n",
    "    return df"
   ]
  },
  {
   "cell_type": "markdown",
   "id": "1d327fe1",
   "metadata": {},
   "source": [
    "Compute Dean Oliver's four factors. For free throw rate, FTM/FGA is adopted over FTA/FGA."
   ]
  },
  {
   "cell_type": "code",
   "execution_count": 13,
   "id": "fcc24d05",
   "metadata": {
    "ExecuteTime": {
     "end_time": "2022-04-10T10:11:34.197853Z",
     "start_time": "2022-04-10T10:11:34.192195Z"
    }
   },
   "outputs": [],
   "source": [
    "def compute_four_factors(df):\n",
    "    flip = {'A': 'B', 'B': 'A'}\n",
    "    for side in ['A', 'B']:\n",
    "        df[f'{side}_off_PP100P'] = df[f'{side}Score'] / df['Poss'] * 100\n",
    "        df[f'{side}_off_eFG'] = (df[f'{side}FGM'] + \n",
    "                                 0.5 * df[f'{side}FGM3']) / \\\n",
    "                                df[f'{side}FGA']\n",
    "        df[f'{side}_off_TO%'] = df[f'{side}TO'] / df['Poss']\n",
    "        df[f'{side}_off_OR%'] = df[f'{side}OR'] / (df[f'{side}OR'] +\n",
    "                                                   df[f'{flip[side]}DR'])\n",
    "        df[f'{side}_off_FTr'] = df[f'{side}FTM'] / df[f'{side}FGA']\n",
    "    for side in ['A', 'B']:\n",
    "        for col in ['PP100P', 'eFG', 'TO%', 'OR%', 'FTr']:\n",
    "            df[f'{flip[side]}_def_{col}'] = df[f'{side}_off_{col}']\n",
    "    return df"
   ]
  },
  {
   "cell_type": "code",
   "execution_count": 14,
   "id": "13783c4d",
   "metadata": {
    "ExecuteTime": {
     "end_time": "2022-04-10T10:11:36.042692Z",
     "start_time": "2022-04-10T10:11:35.991227Z"
    }
   },
   "outputs": [
    {
     "data": {
      "text/html": [
       "<div>\n",
       "<style scoped>\n",
       "    .dataframe tbody tr th:only-of-type {\n",
       "        vertical-align: middle;\n",
       "    }\n",
       "\n",
       "    .dataframe tbody tr th {\n",
       "        vertical-align: top;\n",
       "    }\n",
       "\n",
       "    .dataframe thead th {\n",
       "        text-align: right;\n",
       "    }\n",
       "</style>\n",
       "<table border=\"1\" class=\"dataframe\">\n",
       "  <thead>\n",
       "    <tr style=\"text-align: right;\">\n",
       "      <th></th>\n",
       "      <th>Season</th>\n",
       "      <th>DayNum</th>\n",
       "      <th>ATeamID</th>\n",
       "      <th>AScore</th>\n",
       "      <th>BTeamID</th>\n",
       "      <th>BScore</th>\n",
       "      <th>ALoc</th>\n",
       "      <th>NumOT</th>\n",
       "      <th>AFGM</th>\n",
       "      <th>AFGA</th>\n",
       "      <th>AFGM3</th>\n",
       "      <th>AFGA3</th>\n",
       "      <th>AFTM</th>\n",
       "      <th>AFTA</th>\n",
       "      <th>AOR</th>\n",
       "      <th>ADR</th>\n",
       "      <th>AAst</th>\n",
       "      <th>ATO</th>\n",
       "      <th>AStl</th>\n",
       "      <th>ABlk</th>\n",
       "      <th>APF</th>\n",
       "      <th>BFGM</th>\n",
       "      <th>BFGA</th>\n",
       "      <th>BFGM3</th>\n",
       "      <th>BFGA3</th>\n",
       "      <th>BFTM</th>\n",
       "      <th>BFTA</th>\n",
       "      <th>BOR</th>\n",
       "      <th>BDR</th>\n",
       "      <th>BAst</th>\n",
       "      <th>BTO</th>\n",
       "      <th>BStl</th>\n",
       "      <th>BBlk</th>\n",
       "      <th>BPF</th>\n",
       "      <th>BLoc</th>\n",
       "      <th>APoss</th>\n",
       "      <th>BPoss</th>\n",
       "      <th>Poss</th>\n",
       "      <th>A_off_PP100P</th>\n",
       "      <th>A_off_eFG</th>\n",
       "      <th>A_off_TO%</th>\n",
       "      <th>A_off_OR%</th>\n",
       "      <th>A_off_FTr</th>\n",
       "      <th>B_off_PP100P</th>\n",
       "      <th>B_off_eFG</th>\n",
       "      <th>B_off_TO%</th>\n",
       "      <th>B_off_OR%</th>\n",
       "      <th>B_off_FTr</th>\n",
       "      <th>B_def_PP100P</th>\n",
       "      <th>B_def_eFG</th>\n",
       "      <th>B_def_TO%</th>\n",
       "      <th>B_def_OR%</th>\n",
       "      <th>B_def_FTr</th>\n",
       "      <th>A_def_PP100P</th>\n",
       "      <th>A_def_eFG</th>\n",
       "      <th>A_def_TO%</th>\n",
       "      <th>A_def_OR%</th>\n",
       "      <th>A_def_FTr</th>\n",
       "    </tr>\n",
       "  </thead>\n",
       "  <tbody>\n",
       "    <tr>\n",
       "      <th>0</th>\n",
       "      <td>2016</td>\n",
       "      <td>11</td>\n",
       "      <td>3104</td>\n",
       "      <td>96</td>\n",
       "      <td>3105</td>\n",
       "      <td>44</td>\n",
       "      <td>H</td>\n",
       "      <td>0</td>\n",
       "      <td>34</td>\n",
       "      <td>78</td>\n",
       "      <td>6</td>\n",
       "      <td>30</td>\n",
       "      <td>22</td>\n",
       "      <td>34</td>\n",
       "      <td>20</td>\n",
       "      <td>32</td>\n",
       "      <td>12</td>\n",
       "      <td>14</td>\n",
       "      <td>12</td>\n",
       "      <td>14</td>\n",
       "      <td>21</td>\n",
       "      <td>16</td>\n",
       "      <td>59</td>\n",
       "      <td>0</td>\n",
       "      <td>8</td>\n",
       "      <td>12</td>\n",
       "      <td>20</td>\n",
       "      <td>13</td>\n",
       "      <td>29</td>\n",
       "      <td>6</td>\n",
       "      <td>28</td>\n",
       "      <td>5</td>\n",
       "      <td>0</td>\n",
       "      <td>27</td>\n",
       "      <td>A</td>\n",
       "      <td>86.96</td>\n",
       "      <td>82.80</td>\n",
       "      <td>84.88</td>\n",
       "      <td>113.100848</td>\n",
       "      <td>0.474359</td>\n",
       "      <td>0.164939</td>\n",
       "      <td>0.408163</td>\n",
       "      <td>0.282051</td>\n",
       "      <td>51.837889</td>\n",
       "      <td>0.271186</td>\n",
       "      <td>0.329877</td>\n",
       "      <td>0.288889</td>\n",
       "      <td>0.203390</td>\n",
       "      <td>113.100848</td>\n",
       "      <td>0.474359</td>\n",
       "      <td>0.164939</td>\n",
       "      <td>0.408163</td>\n",
       "      <td>0.282051</td>\n",
       "      <td>51.837889</td>\n",
       "      <td>0.271186</td>\n",
       "      <td>0.329877</td>\n",
       "      <td>0.288889</td>\n",
       "      <td>0.203390</td>\n",
       "    </tr>\n",
       "    <tr>\n",
       "      <th>1</th>\n",
       "      <td>2016</td>\n",
       "      <td>11</td>\n",
       "      <td>3116</td>\n",
       "      <td>97</td>\n",
       "      <td>3368</td>\n",
       "      <td>53</td>\n",
       "      <td>H</td>\n",
       "      <td>0</td>\n",
       "      <td>37</td>\n",
       "      <td>88</td>\n",
       "      <td>7</td>\n",
       "      <td>22</td>\n",
       "      <td>16</td>\n",
       "      <td>25</td>\n",
       "      <td>28</td>\n",
       "      <td>31</td>\n",
       "      <td>23</td>\n",
       "      <td>15</td>\n",
       "      <td>14</td>\n",
       "      <td>0</td>\n",
       "      <td>21</td>\n",
       "      <td>19</td>\n",
       "      <td>56</td>\n",
       "      <td>8</td>\n",
       "      <td>24</td>\n",
       "      <td>7</td>\n",
       "      <td>12</td>\n",
       "      <td>5</td>\n",
       "      <td>29</td>\n",
       "      <td>10</td>\n",
       "      <td>27</td>\n",
       "      <td>4</td>\n",
       "      <td>2</td>\n",
       "      <td>27</td>\n",
       "      <td>A</td>\n",
       "      <td>86.00</td>\n",
       "      <td>83.28</td>\n",
       "      <td>84.64</td>\n",
       "      <td>114.603025</td>\n",
       "      <td>0.460227</td>\n",
       "      <td>0.177221</td>\n",
       "      <td>0.491228</td>\n",
       "      <td>0.181818</td>\n",
       "      <td>62.618147</td>\n",
       "      <td>0.410714</td>\n",
       "      <td>0.318998</td>\n",
       "      <td>0.138889</td>\n",
       "      <td>0.125000</td>\n",
       "      <td>114.603025</td>\n",
       "      <td>0.460227</td>\n",
       "      <td>0.177221</td>\n",
       "      <td>0.491228</td>\n",
       "      <td>0.181818</td>\n",
       "      <td>62.618147</td>\n",
       "      <td>0.410714</td>\n",
       "      <td>0.318998</td>\n",
       "      <td>0.138889</td>\n",
       "      <td>0.125000</td>\n",
       "    </tr>\n",
       "    <tr>\n",
       "      <th>2</th>\n",
       "      <td>2016</td>\n",
       "      <td>11</td>\n",
       "      <td>3119</td>\n",
       "      <td>63</td>\n",
       "      <td>3337</td>\n",
       "      <td>53</td>\n",
       "      <td>H</td>\n",
       "      <td>0</td>\n",
       "      <td>23</td>\n",
       "      <td>57</td>\n",
       "      <td>6</td>\n",
       "      <td>16</td>\n",
       "      <td>11</td>\n",
       "      <td>20</td>\n",
       "      <td>13</td>\n",
       "      <td>31</td>\n",
       "      <td>11</td>\n",
       "      <td>17</td>\n",
       "      <td>9</td>\n",
       "      <td>3</td>\n",
       "      <td>13</td>\n",
       "      <td>20</td>\n",
       "      <td>60</td>\n",
       "      <td>4</td>\n",
       "      <td>15</td>\n",
       "      <td>9</td>\n",
       "      <td>10</td>\n",
       "      <td>9</td>\n",
       "      <td>25</td>\n",
       "      <td>7</td>\n",
       "      <td>18</td>\n",
       "      <td>9</td>\n",
       "      <td>0</td>\n",
       "      <td>24</td>\n",
       "      <td>A</td>\n",
       "      <td>69.80</td>\n",
       "      <td>73.40</td>\n",
       "      <td>71.60</td>\n",
       "      <td>87.988827</td>\n",
       "      <td>0.456140</td>\n",
       "      <td>0.237430</td>\n",
       "      <td>0.342105</td>\n",
       "      <td>0.192982</td>\n",
       "      <td>74.022346</td>\n",
       "      <td>0.366667</td>\n",
       "      <td>0.251397</td>\n",
       "      <td>0.225000</td>\n",
       "      <td>0.150000</td>\n",
       "      <td>87.988827</td>\n",
       "      <td>0.456140</td>\n",
       "      <td>0.237430</td>\n",
       "      <td>0.342105</td>\n",
       "      <td>0.192982</td>\n",
       "      <td>74.022346</td>\n",
       "      <td>0.366667</td>\n",
       "      <td>0.251397</td>\n",
       "      <td>0.225000</td>\n",
       "      <td>0.150000</td>\n",
       "    </tr>\n",
       "    <tr>\n",
       "      <th>3</th>\n",
       "      <td>2016</td>\n",
       "      <td>11</td>\n",
       "      <td>3120</td>\n",
       "      <td>85</td>\n",
       "      <td>3412</td>\n",
       "      <td>71</td>\n",
       "      <td>H</td>\n",
       "      <td>0</td>\n",
       "      <td>34</td>\n",
       "      <td>64</td>\n",
       "      <td>10</td>\n",
       "      <td>30</td>\n",
       "      <td>7</td>\n",
       "      <td>12</td>\n",
       "      <td>11</td>\n",
       "      <td>21</td>\n",
       "      <td>21</td>\n",
       "      <td>9</td>\n",
       "      <td>9</td>\n",
       "      <td>3</td>\n",
       "      <td>18</td>\n",
       "      <td>26</td>\n",
       "      <td>55</td>\n",
       "      <td>12</td>\n",
       "      <td>28</td>\n",
       "      <td>7</td>\n",
       "      <td>14</td>\n",
       "      <td>10</td>\n",
       "      <td>21</td>\n",
       "      <td>16</td>\n",
       "      <td>17</td>\n",
       "      <td>6</td>\n",
       "      <td>1</td>\n",
       "      <td>17</td>\n",
       "      <td>A</td>\n",
       "      <td>67.28</td>\n",
       "      <td>68.16</td>\n",
       "      <td>67.72</td>\n",
       "      <td>125.516834</td>\n",
       "      <td>0.609375</td>\n",
       "      <td>0.132900</td>\n",
       "      <td>0.343750</td>\n",
       "      <td>0.109375</td>\n",
       "      <td>104.843473</td>\n",
       "      <td>0.581818</td>\n",
       "      <td>0.251034</td>\n",
       "      <td>0.322581</td>\n",
       "      <td>0.127273</td>\n",
       "      <td>125.516834</td>\n",
       "      <td>0.609375</td>\n",
       "      <td>0.132900</td>\n",
       "      <td>0.343750</td>\n",
       "      <td>0.109375</td>\n",
       "      <td>104.843473</td>\n",
       "      <td>0.581818</td>\n",
       "      <td>0.251034</td>\n",
       "      <td>0.322581</td>\n",
       "      <td>0.127273</td>\n",
       "    </tr>\n",
       "    <tr>\n",
       "      <th>4</th>\n",
       "      <td>2016</td>\n",
       "      <td>11</td>\n",
       "      <td>3124</td>\n",
       "      <td>62</td>\n",
       "      <td>3426</td>\n",
       "      <td>20</td>\n",
       "      <td>H</td>\n",
       "      <td>0</td>\n",
       "      <td>22</td>\n",
       "      <td>61</td>\n",
       "      <td>3</td>\n",
       "      <td>12</td>\n",
       "      <td>15</td>\n",
       "      <td>28</td>\n",
       "      <td>21</td>\n",
       "      <td>28</td>\n",
       "      <td>19</td>\n",
       "      <td>14</td>\n",
       "      <td>18</td>\n",
       "      <td>6</td>\n",
       "      <td>13</td>\n",
       "      <td>8</td>\n",
       "      <td>40</td>\n",
       "      <td>1</td>\n",
       "      <td>11</td>\n",
       "      <td>3</td>\n",
       "      <td>10</td>\n",
       "      <td>7</td>\n",
       "      <td>23</td>\n",
       "      <td>4</td>\n",
       "      <td>30</td>\n",
       "      <td>4</td>\n",
       "      <td>2</td>\n",
       "      <td>21</td>\n",
       "      <td>A</td>\n",
       "      <td>66.32</td>\n",
       "      <td>67.40</td>\n",
       "      <td>66.86</td>\n",
       "      <td>92.731080</td>\n",
       "      <td>0.385246</td>\n",
       "      <td>0.209393</td>\n",
       "      <td>0.477273</td>\n",
       "      <td>0.245902</td>\n",
       "      <td>29.913252</td>\n",
       "      <td>0.212500</td>\n",
       "      <td>0.448699</td>\n",
       "      <td>0.200000</td>\n",
       "      <td>0.075000</td>\n",
       "      <td>92.731080</td>\n",
       "      <td>0.385246</td>\n",
       "      <td>0.209393</td>\n",
       "      <td>0.477273</td>\n",
       "      <td>0.245902</td>\n",
       "      <td>29.913252</td>\n",
       "      <td>0.212500</td>\n",
       "      <td>0.448699</td>\n",
       "      <td>0.200000</td>\n",
       "      <td>0.075000</td>\n",
       "    </tr>\n",
       "  </tbody>\n",
       "</table>\n",
       "</div>"
      ],
      "text/plain": [
       "   Season  DayNum  ATeamID  AScore  BTeamID  BScore ALoc  NumOT  AFGM  AFGA  \\\n",
       "0    2016      11     3104      96     3105      44    H      0    34    78   \n",
       "1    2016      11     3116      97     3368      53    H      0    37    88   \n",
       "2    2016      11     3119      63     3337      53    H      0    23    57   \n",
       "3    2016      11     3120      85     3412      71    H      0    34    64   \n",
       "4    2016      11     3124      62     3426      20    H      0    22    61   \n",
       "\n",
       "   AFGM3  AFGA3  AFTM  AFTA  AOR  ADR  AAst  ATO  AStl  ABlk  APF  BFGM  BFGA  \\\n",
       "0      6     30    22    34   20   32    12   14    12    14   21    16    59   \n",
       "1      7     22    16    25   28   31    23   15    14     0   21    19    56   \n",
       "2      6     16    11    20   13   31    11   17     9     3   13    20    60   \n",
       "3     10     30     7    12   11   21    21    9     9     3   18    26    55   \n",
       "4      3     12    15    28   21   28    19   14    18     6   13     8    40   \n",
       "\n",
       "   BFGM3  BFGA3  BFTM  BFTA  BOR  BDR  BAst  BTO  BStl  BBlk  BPF BLoc  APoss  \\\n",
       "0      0      8    12    20   13   29     6   28     5     0   27    A  86.96   \n",
       "1      8     24     7    12    5   29    10   27     4     2   27    A  86.00   \n",
       "2      4     15     9    10    9   25     7   18     9     0   24    A  69.80   \n",
       "3     12     28     7    14   10   21    16   17     6     1   17    A  67.28   \n",
       "4      1     11     3    10    7   23     4   30     4     2   21    A  66.32   \n",
       "\n",
       "   BPoss   Poss  A_off_PP100P  A_off_eFG  A_off_TO%  A_off_OR%  A_off_FTr  \\\n",
       "0  82.80  84.88    113.100848   0.474359   0.164939   0.408163   0.282051   \n",
       "1  83.28  84.64    114.603025   0.460227   0.177221   0.491228   0.181818   \n",
       "2  73.40  71.60     87.988827   0.456140   0.237430   0.342105   0.192982   \n",
       "3  68.16  67.72    125.516834   0.609375   0.132900   0.343750   0.109375   \n",
       "4  67.40  66.86     92.731080   0.385246   0.209393   0.477273   0.245902   \n",
       "\n",
       "   B_off_PP100P  B_off_eFG  B_off_TO%  B_off_OR%  B_off_FTr  B_def_PP100P  \\\n",
       "0     51.837889   0.271186   0.329877   0.288889   0.203390    113.100848   \n",
       "1     62.618147   0.410714   0.318998   0.138889   0.125000    114.603025   \n",
       "2     74.022346   0.366667   0.251397   0.225000   0.150000     87.988827   \n",
       "3    104.843473   0.581818   0.251034   0.322581   0.127273    125.516834   \n",
       "4     29.913252   0.212500   0.448699   0.200000   0.075000     92.731080   \n",
       "\n",
       "   B_def_eFG  B_def_TO%  B_def_OR%  B_def_FTr  A_def_PP100P  A_def_eFG  \\\n",
       "0   0.474359   0.164939   0.408163   0.282051     51.837889   0.271186   \n",
       "1   0.460227   0.177221   0.491228   0.181818     62.618147   0.410714   \n",
       "2   0.456140   0.237430   0.342105   0.192982     74.022346   0.366667   \n",
       "3   0.609375   0.132900   0.343750   0.109375    104.843473   0.581818   \n",
       "4   0.385246   0.209393   0.477273   0.245902     29.913252   0.212500   \n",
       "\n",
       "   A_def_TO%  A_def_OR%  A_def_FTr  \n",
       "0   0.329877   0.288889   0.203390  \n",
       "1   0.318998   0.138889   0.125000  \n",
       "2   0.251397   0.225000   0.150000  \n",
       "3   0.251034   0.322581   0.127273  \n",
       "4   0.448699   0.200000   0.075000  "
      ]
     },
     "execution_count": 14,
     "metadata": {},
     "output_type": "execute_result"
    }
   ],
   "source": [
    "df_season_res = compute_possession(df_season_res)\n",
    "df_season_res = compute_four_factors(df_season_res)\n",
    "df_season_res.head()"
   ]
  },
  {
   "cell_type": "code",
   "execution_count": 15,
   "id": "551b15e3",
   "metadata": {
    "ExecuteTime": {
     "end_time": "2022-04-10T10:11:44.956557Z",
     "start_time": "2022-04-10T10:11:44.952413Z"
    }
   },
   "outputs": [],
   "source": [
    "df_season_res['ScoreGap'] = df_season_res['AScore'] - df_season_res['BScore']\n",
    "# df_season_res['Within_5pt'] = df_season_res['ScoreGap'].apply(np.abs)\\\n",
    "#                                                        .apply(lambda x: 1 if x <= 5 else 0)"
   ]
  },
  {
   "cell_type": "code",
   "execution_count": 16,
   "id": "4ed2f0df",
   "metadata": {
    "ExecuteTime": {
     "end_time": "2022-04-10T10:11:45.210584Z",
     "start_time": "2022-04-10T10:11:45.182139Z"
    }
   },
   "outputs": [],
   "source": [
    "df_season_res['WinA'] = df_season_res['ScoreGap'].apply(lambda x: 1 if x > 0 else 0)"
   ]
  },
  {
   "cell_type": "markdown",
   "id": "cc39ea39",
   "metadata": {},
   "source": [
    "### Feature Engineering"
   ]
  },
  {
   "cell_type": "code",
   "execution_count": 17,
   "id": "6ccd7d30",
   "metadata": {
    "ExecuteTime": {
     "end_time": "2022-04-10T10:11:48.588542Z",
     "start_time": "2022-04-10T10:11:48.535946Z"
    }
   },
   "outputs": [
    {
     "name": "stdout",
     "output_type": "stream",
     "text": [
      "(2097, 2)\n"
     ]
    },
    {
     "data": {
      "text/plain": [
       "Season\n",
       "2016    349\n",
       "2017    349\n",
       "2018    349\n",
       "2019    351\n",
       "2021    343\n",
       "2022    356\n",
       "Name: TeamID, dtype: int64"
      ]
     },
     "execution_count": 17,
     "metadata": {},
     "output_type": "execute_result"
    }
   ],
   "source": [
    "df_features_season = df_season_res[['Season', 'ATeamID']]\\\n",
    "                     .drop_duplicates()\\\n",
    "                     .rename(columns={'ATeamID': 'TeamID'})\\\n",
    "                     .reset_index().drop('index', axis=1)\n",
    "print(df_features_season.shape)\n",
    "df_features_season.groupby('Season')['TeamID'].count()"
   ]
  },
  {
   "cell_type": "code",
   "execution_count": 18,
   "id": "b46fbfa6",
   "metadata": {
    "ExecuteTime": {
     "end_time": "2022-04-10T10:11:51.059413Z",
     "start_time": "2022-04-10T10:11:51.057035Z"
    }
   },
   "outputs": [],
   "source": [
    "def treat_seed(seed):\n",
    "    return int(re.sub(\"[^0-9]\", \"\", seed))"
   ]
  },
  {
   "cell_type": "code",
   "execution_count": 19,
   "id": "526262e2",
   "metadata": {
    "ExecuteTime": {
     "end_time": "2022-04-10T10:11:56.438157Z",
     "start_time": "2022-04-10T10:11:56.430203Z"
    }
   },
   "outputs": [],
   "source": [
    "df_features_season = df_seeds.merge(df_features_season)\n",
    "df_features_season['Seed'] = df_features_season['Seed'].apply(treat_seed)"
   ]
  },
  {
   "cell_type": "markdown",
   "id": "4c5dbdf5",
   "metadata": {},
   "source": [
    "#### Win-Loss Record"
   ]
  },
  {
   "cell_type": "code",
   "execution_count": 20,
   "id": "4d7647a2",
   "metadata": {
    "ExecuteTime": {
     "end_time": "2022-04-10T10:11:58.978880Z",
     "start_time": "2022-04-10T10:11:58.970013Z"
    }
   },
   "outputs": [],
   "source": [
    "def get_win_loss_record(df):\n",
    "    g_df = df.groupby(['Season', 'ATeamID'])['ALoc']\\\n",
    "             .apply(list).reset_index()\\\n",
    "             .rename(columns={'ATeamID': 'TeamID'})\n",
    "    g_df['ALoc'] = g_df['ALoc'].apply(Counter)\n",
    "    for loc in ['N', 'H', 'A']:\n",
    "        g_df[f'Num_Game_{loc}'] = g_df['ALoc'].apply(lambda x: x[loc])\n",
    "    g_df['Num_Game'] = g_df[[f'Num_Game_{loc}' \n",
    "                             for loc in ['N', 'H', 'A']]].apply(lambda x: np.sum(x), \n",
    "                                                                axis=1)\n",
    "    g_df = g_df.drop(['ALoc'], axis=1)\n",
    "\n",
    "    win_cond = df['WinA'] == 1\n",
    "    w_df = df[win_cond].groupby(['Season', 'ATeamID'])['ALoc']\\\n",
    "                       .apply(list).reset_index()\\\n",
    "                       .rename(columns={'ATeamID': 'TeamID'})\n",
    "    w_df['ALoc'] = w_df['ALoc'].apply(Counter)\n",
    "    for loc in ['N', 'H', 'A']:\n",
    "        w_df[f'Num_Win_{loc}'] = w_df['ALoc'].apply(lambda x: x[loc])\n",
    "    w_df['Num_Win'] = w_df[[f'Num_Win_{loc}' \n",
    "                            for loc in ['N', 'H', 'A']]].apply(lambda x: np.sum(x), \n",
    "                                                               axis=1)    \n",
    "    w_df = w_df.drop(['ALoc'], axis=1)\n",
    "\n",
    "    output = g_df.merge(w_df, on=['Season', 'TeamID'], how='left')\\\n",
    "                 .fillna(0)\n",
    "    for loc in ['N', 'H', 'A']:\n",
    "        output[f'WinRatio_{loc}'] = output[f'Num_Win_{loc}'] / output[f'Num_Game_{loc}']\n",
    "    output['WinRatio'] = output['Num_Win'] / output['Num_Game']\n",
    "    \n",
    "    output['Num_Loss'] = output['Num_Game'] - output['Num_Win']\n",
    "    \n",
    "    output = output.fillna(0)\n",
    "    return output"
   ]
  },
  {
   "cell_type": "markdown",
   "id": "d9efdacd",
   "metadata": {},
   "source": [
    "Regular win-loss records"
   ]
  },
  {
   "cell_type": "code",
   "execution_count": 21,
   "id": "efa165c3",
   "metadata": {
    "ExecuteTime": {
     "end_time": "2022-04-10T10:12:00.255553Z",
     "start_time": "2022-04-10T10:11:59.872946Z"
    }
   },
   "outputs": [
    {
     "data": {
      "text/plain": [
       "(2097, 15)"
      ]
     },
     "execution_count": 21,
     "metadata": {},
     "output_type": "execute_result"
    }
   ],
   "source": [
    "regular_wl_records = get_win_loss_record(df_season_res)\n",
    "regular_wl_records.shape"
   ]
  },
  {
   "cell_type": "markdown",
   "id": "c7589020",
   "metadata": {},
   "source": [
    "Last 30-day win-loss records"
   ]
  },
  {
   "cell_type": "code",
   "execution_count": 22,
   "id": "3112510f",
   "metadata": {
    "ExecuteTime": {
     "end_time": "2022-04-10T10:12:02.630230Z",
     "start_time": "2022-04-10T10:12:02.280228Z"
    }
   },
   "outputs": [
    {
     "data": {
      "text/plain": [
       "(2083, 15)"
      ]
     },
     "execution_count": 22,
     "metadata": {},
     "output_type": "execute_result"
    }
   ],
   "source": [
    "last_30_season_res = df_season_res[df_season_res['DayNum'] > 102].copy()\n",
    "last_30_wl_records = get_win_loss_record(last_30_season_res)\n",
    "last_30_wl_records.shape"
   ]
  },
  {
   "cell_type": "code",
   "execution_count": 23,
   "id": "85c5dd1b",
   "metadata": {
    "ExecuteTime": {
     "end_time": "2022-04-10T10:12:13.199681Z",
     "start_time": "2022-04-10T10:12:13.186561Z"
    }
   },
   "outputs": [],
   "source": [
    "keys = ['Season', 'TeamID']\n",
    "\n",
    "# Regular\n",
    "regular_cols = ['WinRatio', 'WinRatio_N', 'WinRatio_H', 'WinRatio_A']\n",
    "rhs_regular_wl = regular_wl_records[keys + regular_cols]\\\n",
    "                 .rename(columns={col: f'{col}_RS'\n",
    "                                  for col in regular_cols})\n",
    "df_features_season = df_features_season.merge(rhs_regular_wl, on=keys, how='left')                                                             \n",
    "\n",
    "# Last 30 days\n",
    "rhs_last_30_wl = last_30_wl_records[keys + ['WinRatio']]\\\n",
    "                 .rename(columns={'WinRatio': 'WinRatio_L30'})\n",
    "df_features_season = df_features_season.merge(rhs_last_30_wl, on=keys, how='left') "
   ]
  },
  {
   "cell_type": "code",
   "execution_count": 24,
   "id": "c608de43",
   "metadata": {
    "ExecuteTime": {
     "end_time": "2022-04-10T10:12:13.412059Z",
     "start_time": "2022-04-10T10:12:13.405360Z"
    }
   },
   "outputs": [
    {
     "data": {
      "text/plain": [
       "Season           False\n",
       "Seed             False\n",
       "TeamID           False\n",
       "WinRatio_RS      False\n",
       "WinRatio_N_RS    False\n",
       "WinRatio_H_RS    False\n",
       "WinRatio_A_RS    False\n",
       "WinRatio_L30     False\n",
       "dtype: bool"
      ]
     },
     "execution_count": 24,
     "metadata": {},
     "output_type": "execute_result"
    }
   ],
   "source": [
    "# Check\n",
    "df_features_season.isna().any()"
   ]
  },
  {
   "cell_type": "markdown",
   "id": "a22173e1",
   "metadata": {},
   "source": [
    "#### 4 Factors"
   ]
  },
  {
   "cell_type": "code",
   "execution_count": 25,
   "id": "45029441",
   "metadata": {
    "ExecuteTime": {
     "end_time": "2022-04-10T10:12:16.767344Z",
     "start_time": "2022-04-10T10:12:16.762731Z"
    }
   },
   "outputs": [],
   "source": [
    "def get_4_factors(df):\n",
    "    cols = ['PP100P', 'eFG', 'TO%', 'OR%', 'FTr']\n",
    "    team_records = df.groupby(['Season', f'ATeamID'])\\\n",
    "                     .mean().reset_index().rename(columns={'ATeamID': 'TeamID'})\n",
    "    factor_cols = [f'A_{end}_{col}' for end in ['off', 'def'] for col in cols]\n",
    "    selected_cols = ['Season', 'TeamID'] + factor_cols\n",
    "    team_records = team_records[selected_cols].rename(columns={col: f'Tm{col[1:]}'\n",
    "                                                               for col in factor_cols})\n",
    "    for col in cols:\n",
    "        team_records[f'Tm_net_{col}'] = team_records[f'Tm_off_{col}'] - \\\n",
    "                                        team_records[f'Tm_def_{col}']\n",
    "    return team_records"
   ]
  },
  {
   "cell_type": "markdown",
   "id": "29f748e9",
   "metadata": {},
   "source": [
    "Regular 4 factors records"
   ]
  },
  {
   "cell_type": "code",
   "execution_count": 26,
   "id": "b67a93e6",
   "metadata": {
    "ExecuteTime": {
     "end_time": "2022-04-10T10:12:17.454688Z",
     "start_time": "2022-04-10T10:12:17.415416Z"
    }
   },
   "outputs": [
    {
     "data": {
      "text/plain": [
       "(2097, 17)"
      ]
     },
     "execution_count": 26,
     "metadata": {},
     "output_type": "execute_result"
    }
   ],
   "source": [
    "regular_4f_records = get_4_factors(df_season_res)\n",
    "regular_4f_records.shape"
   ]
  },
  {
   "cell_type": "markdown",
   "id": "48d9bb7a",
   "metadata": {},
   "source": [
    "Last 30-day 4 factors records"
   ]
  },
  {
   "cell_type": "code",
   "execution_count": 27,
   "id": "ea6eb876",
   "metadata": {
    "ExecuteTime": {
     "end_time": "2022-04-10T10:12:19.875911Z",
     "start_time": "2022-04-10T10:12:19.849633Z"
    }
   },
   "outputs": [
    {
     "data": {
      "text/plain": [
       "(2083, 17)"
      ]
     },
     "execution_count": 27,
     "metadata": {},
     "output_type": "execute_result"
    }
   ],
   "source": [
    "last_30_4f_records = get_4_factors(last_30_season_res)\n",
    "last_30_4f_records.shape"
   ]
  },
  {
   "cell_type": "code",
   "execution_count": 28,
   "id": "1db7b87a",
   "metadata": {
    "ExecuteTime": {
     "end_time": "2022-04-10T10:12:24.198025Z",
     "start_time": "2022-04-10T10:12:24.183259Z"
    }
   },
   "outputs": [],
   "source": [
    "# Regular\n",
    "regular_cols = [f'Tm_{end}_{col}'\n",
    "                for end in ['off', 'def', 'net']\n",
    "                for col in ['PP100P', 'eFG', 'TO%', 'OR%', 'FTr']]\n",
    "rhs_regular_4f = regular_4f_records[keys + regular_cols]\\\n",
    "                 .rename(columns={col: f'{col}_RS' for col in regular_cols})\n",
    "df_features_season = df_features_season.merge(rhs_regular_4f, on=keys, how='left')\n",
    "\n",
    "# Last 30 days\n",
    "rhs_last_30_4f = last_30_4f_records[keys + regular_cols]\\\n",
    "                 .rename(columns={col: f'{col}_L30' for col in regular_cols})\n",
    "df_features_season = df_features_season.merge(rhs_last_30_4f, on=keys, how='left') "
   ]
  },
  {
   "cell_type": "code",
   "execution_count": 29,
   "id": "ed2c6828",
   "metadata": {
    "ExecuteTime": {
     "end_time": "2022-04-10T10:12:24.445721Z",
     "start_time": "2022-04-10T10:12:24.438940Z"
    }
   },
   "outputs": [
    {
     "data": {
      "text/plain": [
       "Season               False\n",
       "Seed                 False\n",
       "TeamID               False\n",
       "WinRatio_RS          False\n",
       "WinRatio_N_RS        False\n",
       "WinRatio_H_RS        False\n",
       "WinRatio_A_RS        False\n",
       "WinRatio_L30         False\n",
       "Tm_off_PP100P_RS     False\n",
       "Tm_off_eFG_RS        False\n",
       "Tm_off_TO%_RS        False\n",
       "Tm_off_OR%_RS        False\n",
       "Tm_off_FTr_RS        False\n",
       "Tm_def_PP100P_RS     False\n",
       "Tm_def_eFG_RS        False\n",
       "Tm_def_TO%_RS        False\n",
       "Tm_def_OR%_RS        False\n",
       "Tm_def_FTr_RS        False\n",
       "Tm_net_PP100P_RS     False\n",
       "Tm_net_eFG_RS        False\n",
       "Tm_net_TO%_RS        False\n",
       "Tm_net_OR%_RS        False\n",
       "Tm_net_FTr_RS        False\n",
       "Tm_off_PP100P_L30    False\n",
       "Tm_off_eFG_L30       False\n",
       "Tm_off_TO%_L30       False\n",
       "Tm_off_OR%_L30       False\n",
       "Tm_off_FTr_L30       False\n",
       "Tm_def_PP100P_L30    False\n",
       "Tm_def_eFG_L30       False\n",
       "Tm_def_TO%_L30       False\n",
       "Tm_def_OR%_L30       False\n",
       "Tm_def_FTr_L30       False\n",
       "Tm_net_PP100P_L30    False\n",
       "Tm_net_eFG_L30       False\n",
       "Tm_net_TO%_L30       False\n",
       "Tm_net_OR%_L30       False\n",
       "Tm_net_FTr_L30       False\n",
       "dtype: bool"
      ]
     },
     "execution_count": 29,
     "metadata": {},
     "output_type": "execute_result"
    }
   ],
   "source": [
    "df_features_season.isna().any()"
   ]
  },
  {
   "cell_type": "markdown",
   "id": "f5330a8b",
   "metadata": {},
   "source": [
    "#### 538"
   ]
  },
  {
   "cell_type": "code",
   "execution_count": 30,
   "id": "9a3e617b",
   "metadata": {
    "ExecuteTime": {
     "end_time": "2022-04-10T10:12:32.247971Z",
     "start_time": "2022-04-10T10:12:32.240785Z"
    }
   },
   "outputs": [
    {
     "data": {
      "text/plain": [
       "(388, 39)"
      ]
     },
     "execution_count": 30,
     "metadata": {},
     "output_type": "execute_result"
    }
   ],
   "source": [
    "df_features_season = df_features_season.merge(df_538[keys + ['538rating']],\n",
    "                                              on=keys, how='left')\n",
    "df_features_season.shape"
   ]
  },
  {
   "cell_type": "markdown",
   "id": "8ec524e6",
   "metadata": {},
   "source": [
    "### Tourney results"
   ]
  },
  {
   "cell_type": "code",
   "execution_count": 31,
   "id": "1131c0e4",
   "metadata": {
    "ExecuteTime": {
     "end_time": "2022-04-10T10:12:37.440685Z",
     "start_time": "2022-04-10T10:12:37.426171Z"
    }
   },
   "outputs": [],
   "source": [
    "df_tourney_res = pd.read_csv(f'{directory}/WNCAATourneyDetailedResults.csv')\n",
    "df_tourney_res = df_tourney_res[df_tourney_res['Season'].isin(seasons)]"
   ]
  },
  {
   "cell_type": "code",
   "execution_count": 32,
   "id": "2492e11b",
   "metadata": {
    "ExecuteTime": {
     "end_time": "2022-04-10T10:12:40.361034Z",
     "start_time": "2022-04-10T10:12:40.348125Z"
    }
   },
   "outputs": [
    {
     "name": "stdout",
     "output_type": "stream",
     "text": [
      "Before data prep: (315, 34)\n",
      "After data prep: (630, 35)\n"
     ]
    }
   ],
   "source": [
    "print('Before data prep:', df_tourney_res.shape)\n",
    "df_tourney_res = prepare_data(df_tourney_res)\n",
    "print('After data prep:', df_tourney_res.shape)"
   ]
  },
  {
   "cell_type": "code",
   "execution_count": 33,
   "id": "468385fe",
   "metadata": {
    "ExecuteTime": {
     "end_time": "2022-04-10T10:12:52.853246Z",
     "start_time": "2022-04-10T10:12:52.830199Z"
    }
   },
   "outputs": [
    {
     "data": {
      "text/html": [
       "<div>\n",
       "<style scoped>\n",
       "    .dataframe tbody tr th:only-of-type {\n",
       "        vertical-align: middle;\n",
       "    }\n",
       "\n",
       "    .dataframe tbody tr th {\n",
       "        vertical-align: top;\n",
       "    }\n",
       "\n",
       "    .dataframe thead th {\n",
       "        text-align: right;\n",
       "    }\n",
       "</style>\n",
       "<table border=\"1\" class=\"dataframe\">\n",
       "  <thead>\n",
       "    <tr style=\"text-align: right;\">\n",
       "      <th></th>\n",
       "      <th>Season</th>\n",
       "      <th>ATeamID</th>\n",
       "      <th>AScore</th>\n",
       "      <th>APP100P</th>\n",
       "      <th>BTeamID</th>\n",
       "      <th>BScore</th>\n",
       "      <th>BPP100P</th>\n",
       "    </tr>\n",
       "  </thead>\n",
       "  <tbody>\n",
       "    <tr>\n",
       "      <th>625</th>\n",
       "      <td>2021</td>\n",
       "      <td>3400</td>\n",
       "      <td>34</td>\n",
       "      <td>49.620549</td>\n",
       "      <td>3376</td>\n",
       "      <td>62</td>\n",
       "      <td>90.484530</td>\n",
       "    </tr>\n",
       "    <tr>\n",
       "      <th>626</th>\n",
       "      <td>2021</td>\n",
       "      <td>3257</td>\n",
       "      <td>63</td>\n",
       "      <td>95.281307</td>\n",
       "      <td>3390</td>\n",
       "      <td>78</td>\n",
       "      <td>117.967332</td>\n",
       "    </tr>\n",
       "    <tr>\n",
       "      <th>627</th>\n",
       "      <td>2021</td>\n",
       "      <td>3163</td>\n",
       "      <td>59</td>\n",
       "      <td>81.133113</td>\n",
       "      <td>3112</td>\n",
       "      <td>69</td>\n",
       "      <td>94.884488</td>\n",
       "    </tr>\n",
       "    <tr>\n",
       "      <th>628</th>\n",
       "      <td>2021</td>\n",
       "      <td>3376</td>\n",
       "      <td>65</td>\n",
       "      <td>101.912825</td>\n",
       "      <td>3390</td>\n",
       "      <td>66</td>\n",
       "      <td>103.480715</td>\n",
       "    </tr>\n",
       "    <tr>\n",
       "      <th>629</th>\n",
       "      <td>2021</td>\n",
       "      <td>3112</td>\n",
       "      <td>53</td>\n",
       "      <td>78.055965</td>\n",
       "      <td>3390</td>\n",
       "      <td>54</td>\n",
       "      <td>79.528719</td>\n",
       "    </tr>\n",
       "  </tbody>\n",
       "</table>\n",
       "</div>"
      ],
      "text/plain": [
       "     Season  ATeamID  AScore     APP100P  BTeamID  BScore     BPP100P\n",
       "625    2021     3400      34   49.620549     3376      62   90.484530\n",
       "626    2021     3257      63   95.281307     3390      78  117.967332\n",
       "627    2021     3163      59   81.133113     3112      69   94.884488\n",
       "628    2021     3376      65  101.912825     3390      66  103.480715\n",
       "629    2021     3112      53   78.055965     3390      54   79.528719"
      ]
     },
     "execution_count": 33,
     "metadata": {},
     "output_type": "execute_result"
    }
   ],
   "source": [
    "df_tourney_res = compute_possession(df_tourney_res)\n",
    "df_tourney_res = compute_four_factors(df_tourney_res)\n",
    "df_tourney_res = df_tourney_res[['Season', \n",
    "                                 'ATeamID', 'AScore', 'A_off_PP100P',\n",
    "                                 'BTeamID', 'BScore', 'B_off_PP100P']]\\\n",
    "                 .rename(columns={f'{s}_off_PP100P': f'{s}PP100P' for s in ['A', 'B']})\n",
    "df_tourney_res.tail()"
   ]
  },
  {
   "cell_type": "markdown",
   "id": "1f470c9a",
   "metadata": {},
   "source": [
    "## Set Up Train/Test Data"
   ]
  },
  {
   "cell_type": "markdown",
   "id": "a7917fde",
   "metadata": {},
   "source": [
    "### Train data"
   ]
  },
  {
   "cell_type": "code",
   "execution_count": 34,
   "id": "301c8558",
   "metadata": {
    "ExecuteTime": {
     "end_time": "2022-04-10T10:13:01.457790Z",
     "start_time": "2022-04-10T10:13:01.445848Z"
    }
   },
   "outputs": [
    {
     "data": {
      "text/html": [
       "<div>\n",
       "<style scoped>\n",
       "    .dataframe tbody tr th:only-of-type {\n",
       "        vertical-align: middle;\n",
       "    }\n",
       "\n",
       "    .dataframe tbody tr th {\n",
       "        vertical-align: top;\n",
       "    }\n",
       "\n",
       "    .dataframe thead th {\n",
       "        text-align: right;\n",
       "    }\n",
       "</style>\n",
       "<table border=\"1\" class=\"dataframe\">\n",
       "  <thead>\n",
       "    <tr style=\"text-align: right;\">\n",
       "      <th></th>\n",
       "      <th>Season</th>\n",
       "      <th>ATeamID</th>\n",
       "      <th>AScore</th>\n",
       "      <th>APP100P</th>\n",
       "      <th>BTeamID</th>\n",
       "      <th>BScore</th>\n",
       "      <th>BPP100P</th>\n",
       "    </tr>\n",
       "  </thead>\n",
       "  <tbody>\n",
       "    <tr>\n",
       "      <th>0</th>\n",
       "      <td>2016</td>\n",
       "      <td>3107</td>\n",
       "      <td>61</td>\n",
       "      <td>85.290828</td>\n",
       "      <td>3196</td>\n",
       "      <td>59</td>\n",
       "      <td>82.494407</td>\n",
       "    </tr>\n",
       "    <tr>\n",
       "      <th>1</th>\n",
       "      <td>2016</td>\n",
       "      <td>3113</td>\n",
       "      <td>74</td>\n",
       "      <td>106.812933</td>\n",
       "      <td>3308</td>\n",
       "      <td>52</td>\n",
       "      <td>75.057737</td>\n",
       "    </tr>\n",
       "    <tr>\n",
       "      <th>2</th>\n",
       "      <td>2016</td>\n",
       "      <td>3120</td>\n",
       "      <td>68</td>\n",
       "      <td>97.560976</td>\n",
       "      <td>3385</td>\n",
       "      <td>57</td>\n",
       "      <td>81.779053</td>\n",
       "    </tr>\n",
       "    <tr>\n",
       "      <th>3</th>\n",
       "      <td>2016</td>\n",
       "      <td>3124</td>\n",
       "      <td>89</td>\n",
       "      <td>125.211030</td>\n",
       "      <td>3225</td>\n",
       "      <td>59</td>\n",
       "      <td>83.005065</td>\n",
       "    </tr>\n",
       "    <tr>\n",
       "      <th>4</th>\n",
       "      <td>2016</td>\n",
       "      <td>3177</td>\n",
       "      <td>97</td>\n",
       "      <td>129.229949</td>\n",
       "      <td>3241</td>\n",
       "      <td>67</td>\n",
       "      <td>89.261924</td>\n",
       "    </tr>\n",
       "  </tbody>\n",
       "</table>\n",
       "</div>"
      ],
      "text/plain": [
       "   Season  ATeamID  AScore     APP100P  BTeamID  BScore    BPP100P\n",
       "0    2016     3107      61   85.290828     3196      59  82.494407\n",
       "1    2016     3113      74  106.812933     3308      52  75.057737\n",
       "2    2016     3120      68   97.560976     3385      57  81.779053\n",
       "3    2016     3124      89  125.211030     3225      59  83.005065\n",
       "4    2016     3177      97  129.229949     3241      67  89.261924"
      ]
     },
     "execution_count": 34,
     "metadata": {},
     "output_type": "execute_result"
    }
   ],
   "source": [
    "df = df_tourney_res.copy()\n",
    "cutoff = 2016\n",
    "df = df[df['Season'] >= cutoff].reset_index(drop=True)\n",
    "df.head()"
   ]
  },
  {
   "cell_type": "markdown",
   "id": "8a3f120d",
   "metadata": {},
   "source": [
    "Add features"
   ]
  },
  {
   "cell_type": "code",
   "execution_count": 35,
   "id": "4b6a18b9",
   "metadata": {
    "ExecuteTime": {
     "end_time": "2022-04-10T10:13:18.632170Z",
     "start_time": "2022-04-10T10:13:18.628371Z"
    }
   },
   "outputs": [],
   "source": [
    "def add_side(df, side):\n",
    "    output = df.copy()\\\n",
    "               .rename(columns={col: f'{side}{col}' \n",
    "                                for col in df_features_season.columns\n",
    "                                if col in ['Seed', 'TeamID', '538rating']})\\\n",
    "               .rename(columns={col: f'{side}_{col}'\n",
    "                                for col in df_features_season.columns\n",
    "                                if '_' in col})\n",
    "    return output"
   ]
  },
  {
   "cell_type": "code",
   "execution_count": 36,
   "id": "b3e940c0",
   "metadata": {
    "ExecuteTime": {
     "end_time": "2022-04-10T10:13:19.659427Z",
     "start_time": "2022-04-10T10:13:19.647485Z"
    }
   },
   "outputs": [],
   "source": [
    "for s in ['A', 'B']:\n",
    "    df = df.merge(add_side(df_features_season, s),\n",
    "                  on=['Season', f'{s}TeamID'],\n",
    "                  how='left')"
   ]
  },
  {
   "cell_type": "markdown",
   "id": "b546f55d",
   "metadata": {},
   "source": [
    "Get featues that indicate the difference between two sides"
   ]
  },
  {
   "cell_type": "code",
   "execution_count": 37,
   "id": "2d4c71fd",
   "metadata": {
    "ExecuteTime": {
     "end_time": "2022-04-10T10:13:51.107807Z",
     "start_time": "2022-04-10T10:13:51.104285Z"
    }
   },
   "outputs": [],
   "source": [
    "def compute_diff(df, diff_cols):\n",
    "    output = df.copy()\n",
    "    for col in diff_cols:\n",
    "        if '_' not in col:\n",
    "            output[f'Diff{col}'] = output[f'A{col}'] - output[f'B{col}']\n",
    "        else:\n",
    "            output[f'Diff_{col}'] = output[f'A_{col}'] - output[f'B_{col}']\n",
    "    return output"
   ]
  },
  {
   "cell_type": "code",
   "execution_count": 38,
   "id": "e8862827",
   "metadata": {
    "ExecuteTime": {
     "end_time": "2022-04-10T10:13:54.044410Z",
     "start_time": "2022-04-10T10:13:54.033844Z"
    }
   },
   "outputs": [],
   "source": [
    "diff_cols = ['Seed'] + \\\n",
    "            ['WinRatio_RS', 'WinRatio_N_RS', 'WinRatio_H_RS', 'WinRatio_A_RS', \n",
    "             'WinRatio_L30'] + \\\n",
    "            ['538rating']\n",
    "\n",
    "df = compute_diff(df, diff_cols)"
   ]
  },
  {
   "cell_type": "markdown",
   "id": "e8dadbb9",
   "metadata": {},
   "source": [
    "### Compute Training Labels"
   ]
  },
  {
   "cell_type": "code",
   "execution_count": 39,
   "id": "582fdfcc",
   "metadata": {
    "ExecuteTime": {
     "end_time": "2022-04-10T10:13:59.754915Z",
     "start_time": "2022-04-10T10:13:59.748391Z"
    }
   },
   "outputs": [],
   "source": [
    "df['DiffScore'] = df['AScore'] - df['BScore']\n",
    "df['DiffPP100P'] = df['APP100P'] - df['BPP100P']\n",
    "df['WinA'] = df['DiffScore'].apply(lambda x: 1 if x > 0 else 0)"
   ]
  },
  {
   "cell_type": "markdown",
   "id": "76aee3dd",
   "metadata": {},
   "source": [
    "## Modeling"
   ]
  },
  {
   "cell_type": "code",
   "execution_count": 40,
   "id": "0f41aa48",
   "metadata": {
    "ExecuteTime": {
     "end_time": "2022-04-10T10:14:08.652527Z",
     "start_time": "2022-04-10T10:14:08.646620Z"
    }
   },
   "outputs": [
    {
     "data": {
      "text/plain": [
       "76"
      ]
     },
     "execution_count": 40,
     "metadata": {},
     "output_type": "execute_result"
    }
   ],
   "source": [
    "mask = ['TeamID', 'Team', 'Conf', 'Score', 'PP100P']\n",
    "features = [col for col in df.columns if col.startswith('A')\n",
    "            if col not in [f'A{col}' for col in mask]] + \\\n",
    "           [col for col in df.columns if col.startswith('B')\n",
    "            if col not in [f'B{col}' for col in mask]] + \\\n",
    "           ['DiffSeed', 'Diff538rating']\n",
    "len(features)"
   ]
  },
  {
   "cell_type": "code",
   "execution_count": 41,
   "id": "c0e5c667",
   "metadata": {
    "ExecuteTime": {
     "end_time": "2022-04-10T10:14:18.733122Z",
     "start_time": "2022-04-10T10:14:18.728785Z"
    }
   },
   "outputs": [
    {
     "data": {
      "text/plain": [
       "66"
      ]
     },
     "execution_count": 41,
     "metadata": {},
     "output_type": "execute_result"
    }
   ],
   "source": [
    "features = [feature for feature in features\n",
    "            if 'WinRatio' not in feature] \n",
    "len(features)"
   ]
  },
  {
   "cell_type": "code",
   "execution_count": null,
   "id": "9abf79af",
   "metadata": {
    "ExecuteTime": {
     "end_time": "2022-03-29T09:32:21.875054Z",
     "start_time": "2022-03-29T09:32:21.872607Z"
    }
   },
   "outputs": [],
   "source": [
    "# df_val = df[df['Season'] != 2021].reset_index().drop('index', axis=1)\n",
    "# df.shape, df_val.shape"
   ]
  },
  {
   "cell_type": "code",
   "execution_count": null,
   "id": "f7035bdf",
   "metadata": {
    "ExecuteTime": {
     "end_time": "2022-03-29T09:32:21.946139Z",
     "start_time": "2022-03-29T09:32:21.943612Z"
    }
   },
   "outputs": [],
   "source": [
    "# X = df_val[features].values\n",
    "# # y = df['DiffScore']\n",
    "# y = df_val['DiffPP100P']"
   ]
  },
  {
   "cell_type": "code",
   "execution_count": 42,
   "id": "ea0c1c59",
   "metadata": {
    "ExecuteTime": {
     "end_time": "2022-04-10T10:14:34.370586Z",
     "start_time": "2022-04-10T10:14:34.358859Z"
    }
   },
   "outputs": [],
   "source": [
    "X = df[features].values\n",
    "# y = df['DiffScore']\n",
    "y = df['DiffPP100P']\n",
    "dtrain = xgb.DMatrix(X, label=y)"
   ]
  },
  {
   "cell_type": "markdown",
   "id": "eeb0e716",
   "metadata": {},
   "source": [
    "### Step 1: Use XGBoost to predict the actual gaps in points per possession"
   ]
  },
  {
   "cell_type": "code",
   "execution_count": 43,
   "id": "4e96d0f9",
   "metadata": {
    "ExecuteTime": {
     "end_time": "2022-04-10T10:14:44.412925Z",
     "start_time": "2022-04-10T10:14:44.409135Z"
    }
   },
   "outputs": [],
   "source": [
    "def cauchyobj(preds, dtrain):\n",
    "    labels = dtrain.get_label()\n",
    "    c = 3000 \n",
    "    x =  preds - labels    \n",
    "    grad = x / (x ** 2 / c ** 2 + 1)\n",
    "    hess = -c ** 2 * (x ** 2 - c** 2) / (x ** 2 + c ** 2) ** 2\n",
    "    return grad, hess"
   ]
  },
  {
   "cell_type": "code",
   "execution_count": 44,
   "id": "581fb57b",
   "metadata": {
    "ExecuteTime": {
     "end_time": "2022-04-10T10:14:44.692545Z",
     "start_time": "2022-04-10T10:14:44.686550Z"
    }
   },
   "outputs": [
    {
     "data": {
      "text/plain": [
       "{'eval_metric': 'mae',\n",
       " 'booster': 'gbtree',\n",
       " 'eta': 0.01,\n",
       " 'subsample': 0.35,\n",
       " 'colsample_bytree': 0.8,\n",
       " 'num_parallel_tree': 10,\n",
       " 'min_child_weight': 40,\n",
       " 'gamma': 5,\n",
       " 'max_depth': 5,\n",
       " 'silent': 1}"
      ]
     },
     "execution_count": 44,
     "metadata": {},
     "output_type": "execute_result"
    }
   ],
   "source": [
    "param = {} \n",
    "param['eval_metric'] = 'mae'\n",
    "param['booster'] = 'gbtree'\n",
    "param['eta'] = 0.01 \n",
    "param['subsample'] = 0.35\n",
    "param['colsample_bytree'] = 0.8\n",
    "param['num_parallel_tree'] = 10 \n",
    "param['min_child_weight'] = 40\n",
    "param['gamma'] = 5\n",
    "param['max_depth'] =  5\n",
    "param['silent'] = 1\n",
    "\n",
    "param"
   ]
  },
  {
   "cell_type": "code",
   "execution_count": 45,
   "id": "eff9477f",
   "metadata": {
    "ExecuteTime": {
     "end_time": "2022-04-10T10:16:34.579029Z",
     "start_time": "2022-04-10T10:14:47.444102Z"
    }
   },
   "outputs": [
    {
     "name": "stdout",
     "output_type": "stream",
     "text": [
      "Fold 0\n",
      "[18:14:47] WARNING: /Users/runner/miniforge3/conda-bld/xgboost-split_1645117948562/work/src/learner.cc:576: \n",
      "Parameters: { \"silent\" } might not be used.\n",
      "\n",
      "  This could be a false alarm, with some parameters getting used by language bindings but\n",
      "  then being mistakenly passed down to XGBoost core, or some parameter actually being used\n",
      "  but getting flagged wrongly here. Please open an issue if you find any such cases.\n",
      "\n",
      "\n",
      "[18:14:47] WARNING: /Users/runner/miniforge3/conda-bld/xgboost-split_1645117948562/work/src/learner.cc:576: \n",
      "Parameters: { \"silent\" } might not be used.\n",
      "\n",
      "  This could be a false alarm, with some parameters getting used by language bindings but\n",
      "  then being mistakenly passed down to XGBoost core, or some parameter actually being used\n",
      "  but getting flagged wrongly here. Please open an issue if you find any such cases.\n",
      "\n",
      "\n",
      "[18:14:47] WARNING: /Users/runner/miniforge3/conda-bld/xgboost-split_1645117948562/work/src/learner.cc:576: \n",
      "Parameters: { \"silent\" } might not be used.\n",
      "\n",
      "  This could be a false alarm, with some parameters getting used by language bindings but\n",
      "  then being mistakenly passed down to XGBoost core, or some parameter actually being used\n",
      "  but getting flagged wrongly here. Please open an issue if you find any such cases.\n",
      "\n",
      "\n",
      "[18:14:47] WARNING: /Users/runner/miniforge3/conda-bld/xgboost-split_1645117948562/work/src/learner.cc:576: \n",
      "Parameters: { \"silent\" } might not be used.\n",
      "\n",
      "  This could be a false alarm, with some parameters getting used by language bindings but\n",
      "  then being mistakenly passed down to XGBoost core, or some parameter actually being used\n",
      "  but getting flagged wrongly here. Please open an issue if you find any such cases.\n",
      "\n",
      "\n",
      "[18:14:47] WARNING: /Users/runner/miniforge3/conda-bld/xgboost-split_1645117948562/work/src/learner.cc:576: \n",
      "Parameters: { \"silent\" } might not be used.\n",
      "\n",
      "  This could be a false alarm, with some parameters getting used by language bindings but\n",
      "  then being mistakenly passed down to XGBoost core, or some parameter actually being used\n",
      "  but getting flagged wrongly here. Please open an issue if you find any such cases.\n",
      "\n",
      "\n",
      "[18:14:47] WARNING: /Users/runner/miniforge3/conda-bld/xgboost-split_1645117948562/work/src/learner.cc:576: \n",
      "Parameters: { \"silent\" } might not be used.\n",
      "\n",
      "  This could be a false alarm, with some parameters getting used by language bindings but\n",
      "  then being mistakenly passed down to XGBoost core, or some parameter actually being used\n",
      "  but getting flagged wrongly here. Please open an issue if you find any such cases.\n",
      "\n",
      "\n",
      "[18:14:47] WARNING: /Users/runner/miniforge3/conda-bld/xgboost-split_1645117948562/work/src/learner.cc:576: \n",
      "Parameters: { \"silent\" } might not be used.\n",
      "\n",
      "  This could be a false alarm, with some parameters getting used by language bindings but\n",
      "  then being mistakenly passed down to XGBoost core, or some parameter actually being used\n",
      "  but getting flagged wrongly here. Please open an issue if you find any such cases.\n",
      "\n",
      "\n",
      "[18:14:47] WARNING: /Users/runner/miniforge3/conda-bld/xgboost-split_1645117948562/work/src/learner.cc:576: \n",
      "Parameters: { \"silent\" } might not be used.\n",
      "\n",
      "  This could be a false alarm, with some parameters getting used by language bindings but\n",
      "  then being mistakenly passed down to XGBoost core, or some parameter actually being used\n",
      "  but getting flagged wrongly here. Please open an issue if you find any such cases.\n",
      "\n",
      "\n",
      "[0]\ttrain-mae:25.80558+0.39195\ttest-mae:25.80898+2.75907\n",
      "[50]\ttrain-mae:20.38264+0.21527\ttest-mae:20.59546+2.04448\n",
      "[100]\ttrain-mae:17.78465+0.12539\ttest-mae:18.27368+1.59211\n",
      "[150]\ttrain-mae:16.55792+0.10985\ttest-mae:17.30740+1.32373\n",
      "[200]\ttrain-mae:15.82770+0.09191\ttest-mae:16.82737+1.17053\n",
      "[250]\ttrain-mae:15.32227+0.09243\ttest-mae:16.54869+1.07532\n",
      "[300]\ttrain-mae:14.94827+0.09649\ttest-mae:16.37095+1.00277\n",
      "[350]\ttrain-mae:14.65100+0.09783\ttest-mae:16.28206+0.96036\n",
      "[400]\ttrain-mae:14.40004+0.10218\ttest-mae:16.21609+0.94037\n",
      "[450]\ttrain-mae:14.18331+0.10270\ttest-mae:16.16615+0.93596\n",
      "[500]\ttrain-mae:13.98903+0.10701\ttest-mae:16.13009+0.93598\n",
      "[550]\ttrain-mae:13.81245+0.10818\ttest-mae:16.10998+0.93519\n",
      "[600]\ttrain-mae:13.64854+0.10810\ttest-mae:16.09908+0.92422\n",
      "[650]\ttrain-mae:13.49215+0.10672\ttest-mae:16.09214+0.92479\n",
      "[700]\ttrain-mae:13.34360+0.10895\ttest-mae:16.08773+0.92543\n",
      "[750]\ttrain-mae:13.20252+0.10874\ttest-mae:16.07880+0.92402\n",
      "[800]\ttrain-mae:13.06576+0.10853\ttest-mae:16.08061+0.92947\n",
      "[815]\ttrain-mae:13.02598+0.10959\ttest-mae:16.07925+0.92563\n",
      "\n",
      "Fold 1\n",
      "[18:15:16] WARNING: /Users/runner/miniforge3/conda-bld/xgboost-split_1645117948562/work/src/learner.cc:576: \n",
      "Parameters: { \"silent\" } might not be used.\n",
      "\n",
      "  This could be a false alarm, with some parameters getting used by language bindings but\n",
      "  then being mistakenly passed down to XGBoost core, or some parameter actually being used\n",
      "  but getting flagged wrongly here. Please open an issue if you find any such cases.\n",
      "\n",
      "\n",
      "[18:15:16] WARNING: /Users/runner/miniforge3/conda-bld/xgboost-split_1645117948562/work/src/learner.cc:576: \n",
      "Parameters: { \"silent\" } might not be used.\n",
      "\n",
      "  This could be a false alarm, with some parameters getting used by language bindings but\n",
      "  then being mistakenly passed down to XGBoost core, or some parameter actually being used\n",
      "  but getting flagged wrongly here. Please open an issue if you find any such cases.\n",
      "\n",
      "\n",
      "[18:15:16] WARNING: /Users/runner/miniforge3/conda-bld/xgboost-split_1645117948562/work/src/learner.cc:576: \n",
      "Parameters: { \"silent\" } might not be used.\n",
      "\n",
      "  This could be a false alarm, with some parameters getting used by language bindings but\n",
      "  then being mistakenly passed down to XGBoost core, or some parameter actually being used\n",
      "  but getting flagged wrongly here. Please open an issue if you find any such cases.\n",
      "\n",
      "\n",
      "[18:15:16] WARNING: /Users/runner/miniforge3/conda-bld/xgboost-split_1645117948562/work/src/learner.cc:576: \n",
      "Parameters: { \"silent\" } might not be used.\n",
      "\n",
      "  This could be a false alarm, with some parameters getting used by language bindings but\n",
      "  then being mistakenly passed down to XGBoost core, or some parameter actually being used\n",
      "  but getting flagged wrongly here. Please open an issue if you find any such cases.\n",
      "\n",
      "\n",
      "[18:15:16] WARNING: /Users/runner/miniforge3/conda-bld/xgboost-split_1645117948562/work/src/learner.cc:576: \n",
      "Parameters: { \"silent\" } might not be used.\n",
      "\n",
      "  This could be a false alarm, with some parameters getting used by language bindings but\n",
      "  then being mistakenly passed down to XGBoost core, or some parameter actually being used\n",
      "  but getting flagged wrongly here. Please open an issue if you find any such cases.\n",
      "\n",
      "\n",
      "[18:15:16] WARNING: /Users/runner/miniforge3/conda-bld/xgboost-split_1645117948562/work/src/learner.cc:576: \n",
      "Parameters: { \"silent\" } might not be used.\n",
      "\n",
      "  This could be a false alarm, with some parameters getting used by language bindings but\n",
      "  then being mistakenly passed down to XGBoost core, or some parameter actually being used\n",
      "  but getting flagged wrongly here. Please open an issue if you find any such cases.\n",
      "\n",
      "\n",
      "[18:15:16] WARNING: /Users/runner/miniforge3/conda-bld/xgboost-split_1645117948562/work/src/learner.cc:576: \n",
      "Parameters: { \"silent\" } might not be used.\n",
      "\n",
      "  This could be a false alarm, with some parameters getting used by language bindings but\n",
      "  then being mistakenly passed down to XGBoost core, or some parameter actually being used\n",
      "  but getting flagged wrongly here. Please open an issue if you find any such cases.\n",
      "\n",
      "\n",
      "[18:15:16] WARNING: /Users/runner/miniforge3/conda-bld/xgboost-split_1645117948562/work/src/learner.cc:576: \n",
      "Parameters: { \"silent\" } might not be used.\n",
      "\n",
      "  This could be a false alarm, with some parameters getting used by language bindings but\n",
      "  then being mistakenly passed down to XGBoost core, or some parameter actually being used\n",
      "  but getting flagged wrongly here. Please open an issue if you find any such cases.\n",
      "\n",
      "\n",
      "[0]\ttrain-mae:25.80546+0.28505\ttest-mae:25.81482+2.02617\n",
      "[50]\ttrain-mae:20.38826+0.17646\ttest-mae:20.54533+1.62095\n",
      "[100]\ttrain-mae:17.79050+0.16251\ttest-mae:18.16439+1.43068\n",
      "[150]\ttrain-mae:16.57297+0.15660\ttest-mae:17.16070+1.27782\n",
      "[200]\ttrain-mae:15.83888+0.15407\ttest-mae:16.65410+1.20272\n",
      "[250]\ttrain-mae:15.33223+0.15183\ttest-mae:16.37574+1.12388\n",
      "[300]\ttrain-mae:14.95521+0.15021\ttest-mae:16.20455+1.08999\n"
     ]
    },
    {
     "name": "stdout",
     "output_type": "stream",
     "text": [
      "[350]\ttrain-mae:14.66222+0.15249\ttest-mae:16.10104+1.08795\n",
      "[400]\ttrain-mae:14.41074+0.15691\ttest-mae:16.03254+1.09574\n",
      "[450]\ttrain-mae:14.19218+0.15739\ttest-mae:15.99637+1.09935\n",
      "[500]\ttrain-mae:13.99687+0.15882\ttest-mae:15.96645+1.10866\n",
      "[550]\ttrain-mae:13.81966+0.15819\ttest-mae:15.96093+1.11005\n",
      "[565]\ttrain-mae:13.76849+0.15695\ttest-mae:15.96009+1.11545\n",
      "\n",
      "Fold 2\n",
      "[18:15:38] WARNING: /Users/runner/miniforge3/conda-bld/xgboost-split_1645117948562/work/src/learner.cc:576: \n",
      "Parameters: { \"silent\" } might not be used.\n",
      "\n",
      "  This could be a false alarm, with some parameters getting used by language bindings but\n",
      "  then being mistakenly passed down to XGBoost core, or some parameter actually being used\n",
      "  but getting flagged wrongly here. Please open an issue if you find any such cases.\n",
      "\n",
      "\n",
      "[18:15:38] WARNING: /Users/runner/miniforge3/conda-bld/xgboost-split_1645117948562/work/src/learner.cc:576: \n",
      "Parameters: { \"silent\" } might not be used.\n",
      "\n",
      "  This could be a false alarm, with some parameters getting used by language bindings but\n",
      "  then being mistakenly passed down to XGBoost core, or some parameter actually being used\n",
      "  but getting flagged wrongly here. Please open an issue if you find any such cases.\n",
      "\n",
      "\n",
      "[18:15:38] WARNING: /Users/runner/miniforge3/conda-bld/xgboost-split_1645117948562/work/src/learner.cc:576: \n",
      "Parameters: { \"silent\" } might not be used.\n",
      "\n",
      "  This could be a false alarm, with some parameters getting used by language bindings but\n",
      "  then being mistakenly passed down to XGBoost core, or some parameter actually being used\n",
      "  but getting flagged wrongly here. Please open an issue if you find any such cases.\n",
      "\n",
      "\n",
      "[18:15:38] WARNING: /Users/runner/miniforge3/conda-bld/xgboost-split_1645117948562/work/src/learner.cc:576: \n",
      "Parameters: { \"silent\" } might not be used.\n",
      "\n",
      "  This could be a false alarm, with some parameters getting used by language bindings but\n",
      "  then being mistakenly passed down to XGBoost core, or some parameter actually being used\n",
      "  but getting flagged wrongly here. Please open an issue if you find any such cases.\n",
      "\n",
      "\n",
      "[18:15:38] WARNING: /Users/runner/miniforge3/conda-bld/xgboost-split_1645117948562/work/src/learner.cc:576: \n",
      "Parameters: { \"silent\" } might not be used.\n",
      "\n",
      "  This could be a false alarm, with some parameters getting used by language bindings but\n",
      "  then being mistakenly passed down to XGBoost core, or some parameter actually being used\n",
      "  but getting flagged wrongly here. Please open an issue if you find any such cases.\n",
      "\n",
      "\n",
      "[18:15:38] WARNING: /Users/runner/miniforge3/conda-bld/xgboost-split_1645117948562/work/src/learner.cc:576: \n",
      "Parameters: { \"silent\" } might not be used.\n",
      "\n",
      "  This could be a false alarm, with some parameters getting used by language bindings but\n",
      "  then being mistakenly passed down to XGBoost core, or some parameter actually being used\n",
      "  but getting flagged wrongly here. Please open an issue if you find any such cases.\n",
      "\n",
      "\n",
      "[18:15:38] WARNING: /Users/runner/miniforge3/conda-bld/xgboost-split_1645117948562/work/src/learner.cc:576: \n",
      "Parameters: { \"silent\" } might not be used.\n",
      "\n",
      "  This could be a false alarm, with some parameters getting used by language bindings but\n",
      "  then being mistakenly passed down to XGBoost core, or some parameter actually being used\n",
      "  but getting flagged wrongly here. Please open an issue if you find any such cases.\n",
      "\n",
      "\n",
      "[18:15:38] WARNING: /Users/runner/miniforge3/conda-bld/xgboost-split_1645117948562/work/src/learner.cc:576: \n",
      "Parameters: { \"silent\" } might not be used.\n",
      "\n",
      "  This could be a false alarm, with some parameters getting used by language bindings but\n",
      "  then being mistakenly passed down to XGBoost core, or some parameter actually being used\n",
      "  but getting flagged wrongly here. Please open an issue if you find any such cases.\n",
      "\n",
      "\n",
      "[0]\ttrain-mae:25.80536+0.17348\ttest-mae:25.81386+1.21464\n",
      "[50]\ttrain-mae:20.38644+0.14353\ttest-mae:20.56748+1.31658\n",
      "[100]\ttrain-mae:17.78291+0.14832\ttest-mae:18.15766+1.29396\n",
      "[150]\ttrain-mae:16.56972+0.15373\ttest-mae:17.16130+1.28021\n",
      "[200]\ttrain-mae:15.83128+0.15838\ttest-mae:16.66514+1.27069\n",
      "[250]\ttrain-mae:15.32495+0.16105\ttest-mae:16.38974+1.27845\n",
      "[300]\ttrain-mae:14.94508+0.16045\ttest-mae:16.22584+1.27808\n",
      "[350]\ttrain-mae:14.65098+0.15886\ttest-mae:16.12921+1.27336\n",
      "[400]\ttrain-mae:14.40088+0.15590\ttest-mae:16.06902+1.26363\n",
      "[450]\ttrain-mae:14.18430+0.15508\ttest-mae:16.03197+1.27149\n",
      "[500]\ttrain-mae:13.98946+0.15268\ttest-mae:16.01812+1.27933\n",
      "[550]\ttrain-mae:13.81336+0.15017\ttest-mae:16.00835+1.27991\n",
      "[600]\ttrain-mae:13.64798+0.14644\ttest-mae:15.99928+1.27296\n",
      "[616]\ttrain-mae:13.59689+0.14541\ttest-mae:16.00086+1.27286\n",
      "\n",
      "Fold 3\n",
      "[18:16:00] WARNING: /Users/runner/miniforge3/conda-bld/xgboost-split_1645117948562/work/src/learner.cc:576: \n",
      "Parameters: { \"silent\" } might not be used.\n",
      "\n",
      "  This could be a false alarm, with some parameters getting used by language bindings but\n",
      "  then being mistakenly passed down to XGBoost core, or some parameter actually being used\n",
      "  but getting flagged wrongly here. Please open an issue if you find any such cases.\n",
      "\n",
      "\n",
      "[18:16:00] WARNING: /Users/runner/miniforge3/conda-bld/xgboost-split_1645117948562/work/src/learner.cc:576: \n",
      "Parameters: { \"silent\" } might not be used.\n",
      "\n",
      "  This could be a false alarm, with some parameters getting used by language bindings but\n",
      "  then being mistakenly passed down to XGBoost core, or some parameter actually being used\n",
      "  but getting flagged wrongly here. Please open an issue if you find any such cases.\n",
      "\n",
      "\n",
      "[18:16:00] WARNING: /Users/runner/miniforge3/conda-bld/xgboost-split_1645117948562/work/src/learner.cc:576: \n",
      "Parameters: { \"silent\" } might not be used.\n",
      "\n",
      "  This could be a false alarm, with some parameters getting used by language bindings but\n",
      "  then being mistakenly passed down to XGBoost core, or some parameter actually being used\n",
      "  but getting flagged wrongly here. Please open an issue if you find any such cases.\n",
      "\n",
      "\n",
      "[18:16:00] WARNING: /Users/runner/miniforge3/conda-bld/xgboost-split_1645117948562/work/src/learner.cc:576: \n",
      "Parameters: { \"silent\" } might not be used.\n",
      "\n",
      "  This could be a false alarm, with some parameters getting used by language bindings but\n",
      "  then being mistakenly passed down to XGBoost core, or some parameter actually being used\n",
      "  but getting flagged wrongly here. Please open an issue if you find any such cases.\n",
      "\n",
      "\n",
      "[18:16:00] WARNING: /Users/runner/miniforge3/conda-bld/xgboost-split_1645117948562/work/src/learner.cc:576: \n",
      "Parameters: { \"silent\" } might not be used.\n",
      "\n",
      "  This could be a false alarm, with some parameters getting used by language bindings but\n",
      "  then being mistakenly passed down to XGBoost core, or some parameter actually being used\n",
      "  but getting flagged wrongly here. Please open an issue if you find any such cases.\n",
      "\n",
      "\n",
      "[18:16:00] WARNING: /Users/runner/miniforge3/conda-bld/xgboost-split_1645117948562/work/src/learner.cc:576: \n",
      "Parameters: { \"silent\" } might not be used.\n",
      "\n",
      "  This could be a false alarm, with some parameters getting used by language bindings but\n",
      "  then being mistakenly passed down to XGBoost core, or some parameter actually being used\n",
      "  but getting flagged wrongly here. Please open an issue if you find any such cases.\n",
      "\n",
      "\n",
      "[18:16:00] WARNING: /Users/runner/miniforge3/conda-bld/xgboost-split_1645117948562/work/src/learner.cc:576: \n",
      "Parameters: { \"silent\" } might not be used.\n",
      "\n",
      "  This could be a false alarm, with some parameters getting used by language bindings but\n",
      "  then being mistakenly passed down to XGBoost core, or some parameter actually being used\n",
      "  but getting flagged wrongly here. Please open an issue if you find any such cases.\n",
      "\n",
      "\n",
      "[18:16:00] WARNING: /Users/runner/miniforge3/conda-bld/xgboost-split_1645117948562/work/src/learner.cc:576: \n",
      "Parameters: { \"silent\" } might not be used.\n",
      "\n",
      "  This could be a false alarm, with some parameters getting used by language bindings but\n",
      "  then being mistakenly passed down to XGBoost core, or some parameter actually being used\n",
      "  but getting flagged wrongly here. Please open an issue if you find any such cases.\n",
      "\n",
      "\n",
      "[0]\ttrain-mae:25.80445+0.31402\ttest-mae:25.80613+2.21885\n",
      "[50]\ttrain-mae:20.37443+0.17384\ttest-mae:20.53663+1.71787\n",
      "[100]\ttrain-mae:17.78250+0.12374\ttest-mae:18.14939+1.39846\n",
      "[150]\ttrain-mae:16.56885+0.12429\ttest-mae:17.16835+1.21179\n",
      "[200]\ttrain-mae:15.83671+0.12059\ttest-mae:16.68633+1.09911\n"
     ]
    },
    {
     "name": "stdout",
     "output_type": "stream",
     "text": [
      "[250]\ttrain-mae:15.32735+0.12181\ttest-mae:16.40799+1.02793\n",
      "[300]\ttrain-mae:14.94838+0.12218\ttest-mae:16.23874+1.00352\n",
      "[350]\ttrain-mae:14.64875+0.12922\ttest-mae:16.15236+1.00668\n",
      "[400]\ttrain-mae:14.39392+0.13031\ttest-mae:16.10233+1.00793\n",
      "[450]\ttrain-mae:14.17245+0.13388\ttest-mae:16.08034+1.01154\n",
      "[500]\ttrain-mae:13.97334+0.13591\ttest-mae:16.07706+1.02019\n",
      "[525]\ttrain-mae:13.88136+0.13799\ttest-mae:16.07876+1.01901\n",
      "\n",
      "Fold 4\n",
      "[18:16:17] WARNING: /Users/runner/miniforge3/conda-bld/xgboost-split_1645117948562/work/src/learner.cc:576: \n",
      "Parameters: { \"silent\" } might not be used.\n",
      "\n",
      "  This could be a false alarm, with some parameters getting used by language bindings but\n",
      "  then being mistakenly passed down to XGBoost core, or some parameter actually being used\n",
      "  but getting flagged wrongly here. Please open an issue if you find any such cases.\n",
      "\n",
      "\n",
      "[18:16:17] WARNING: /Users/runner/miniforge3/conda-bld/xgboost-split_1645117948562/work/src/learner.cc:576: \n",
      "Parameters: { \"silent\" } might not be used.\n",
      "\n",
      "  This could be a false alarm, with some parameters getting used by language bindings but\n",
      "  then being mistakenly passed down to XGBoost core, or some parameter actually being used\n",
      "  but getting flagged wrongly here. Please open an issue if you find any such cases.\n",
      "\n",
      "\n",
      "[18:16:17] WARNING: /Users/runner/miniforge3/conda-bld/xgboost-split_1645117948562/work/src/learner.cc:576: \n",
      "Parameters: { \"silent\" } might not be used.\n",
      "\n",
      "  This could be a false alarm, with some parameters getting used by language bindings but\n",
      "  then being mistakenly passed down to XGBoost core, or some parameter actually being used\n",
      "  but getting flagged wrongly here. Please open an issue if you find any such cases.\n",
      "\n",
      "\n",
      "[18:16:17] WARNING: /Users/runner/miniforge3/conda-bld/xgboost-split_1645117948562/work/src/learner.cc:576: \n",
      "Parameters: { \"silent\" } might not be used.\n",
      "\n",
      "  This could be a false alarm, with some parameters getting used by language bindings but\n",
      "  then being mistakenly passed down to XGBoost core, or some parameter actually being used\n",
      "  but getting flagged wrongly here. Please open an issue if you find any such cases.\n",
      "\n",
      "\n",
      "[18:16:17] WARNING: /Users/runner/miniforge3/conda-bld/xgboost-split_1645117948562/work/src/learner.cc:576: \n",
      "Parameters: { \"silent\" } might not be used.\n",
      "\n",
      "  This could be a false alarm, with some parameters getting used by language bindings but\n",
      "  then being mistakenly passed down to XGBoost core, or some parameter actually being used\n",
      "  but getting flagged wrongly here. Please open an issue if you find any such cases.\n",
      "\n",
      "\n",
      "[18:16:17] WARNING: /Users/runner/miniforge3/conda-bld/xgboost-split_1645117948562/work/src/learner.cc:576: \n",
      "Parameters: { \"silent\" } might not be used.\n",
      "\n",
      "  This could be a false alarm, with some parameters getting used by language bindings but\n",
      "  then being mistakenly passed down to XGBoost core, or some parameter actually being used\n",
      "  but getting flagged wrongly here. Please open an issue if you find any such cases.\n",
      "\n",
      "\n",
      "[18:16:17] WARNING: /Users/runner/miniforge3/conda-bld/xgboost-split_1645117948562/work/src/learner.cc:576: \n",
      "Parameters: { \"silent\" } might not be used.\n",
      "\n",
      "  This could be a false alarm, with some parameters getting used by language bindings but\n",
      "  then being mistakenly passed down to XGBoost core, or some parameter actually being used\n",
      "  but getting flagged wrongly here. Please open an issue if you find any such cases.\n",
      "\n",
      "\n",
      "[18:16:17] WARNING: /Users/runner/miniforge3/conda-bld/xgboost-split_1645117948562/work/src/learner.cc:576: \n",
      "Parameters: { \"silent\" } might not be used.\n",
      "\n",
      "  This could be a false alarm, with some parameters getting used by language bindings but\n",
      "  then being mistakenly passed down to XGBoost core, or some parameter actually being used\n",
      "  but getting flagged wrongly here. Please open an issue if you find any such cases.\n",
      "\n",
      "\n",
      "[0]\ttrain-mae:25.80503+0.23043\ttest-mae:25.81221+1.62236\n",
      "[50]\ttrain-mae:20.37434+0.14326\ttest-mae:20.55486+1.45040\n",
      "[100]\ttrain-mae:17.78285+0.13688\ttest-mae:18.15610+1.31783\n",
      "[150]\ttrain-mae:16.56460+0.13447\ttest-mae:17.18673+1.23438\n",
      "[200]\ttrain-mae:15.83523+0.13626\ttest-mae:16.70168+1.20154\n",
      "[250]\ttrain-mae:15.32735+0.13467\ttest-mae:16.42515+1.15180\n",
      "[300]\ttrain-mae:14.95418+0.12972\ttest-mae:16.25695+1.12615\n",
      "[350]\ttrain-mae:14.65918+0.12802\ttest-mae:16.16791+1.10817\n",
      "[400]\ttrain-mae:14.40678+0.12679\ttest-mae:16.11609+1.09147\n",
      "[450]\ttrain-mae:14.18636+0.12443\ttest-mae:16.08195+1.08571\n",
      "[500]\ttrain-mae:13.99291+0.12208\ttest-mae:16.06490+1.07930\n",
      "[548]\ttrain-mae:13.82009+0.12119\ttest-mae:16.06759+1.06885\n",
      "\n"
     ]
    }
   ],
   "source": [
    "xgb_cv = []\n",
    "n_cv = 5 \n",
    "\n",
    "for i in range(n_cv): \n",
    "    print(f'Fold {i}')\n",
    "    xgb_cv.append(xgb.cv(params=param,\n",
    "                         dtrain=dtrain,\n",
    "                         obj=cauchyobj,\n",
    "                         num_boost_round=3000,\n",
    "                         folds=KFold(n_splits=8, shuffle=True, random_state=i+666),\n",
    "                         early_stopping_rounds=40,\n",
    "                         verbose_eval=50))\n",
    "    print()"
   ]
  },
  {
   "cell_type": "code",
   "execution_count": 46,
   "id": "5b87493f",
   "metadata": {
    "ExecuteTime": {
     "end_time": "2022-04-10T10:16:34.599020Z",
     "start_time": "2022-04-10T10:16:34.581723Z"
    }
   },
   "outputs": [
    {
     "data": {
      "text/html": [
       "<div>\n",
       "<style scoped>\n",
       "    .dataframe tbody tr th:only-of-type {\n",
       "        vertical-align: middle;\n",
       "    }\n",
       "\n",
       "    .dataframe tbody tr th {\n",
       "        vertical-align: top;\n",
       "    }\n",
       "\n",
       "    .dataframe thead th {\n",
       "        text-align: right;\n",
       "    }\n",
       "</style>\n",
       "<table border=\"1\" class=\"dataframe\">\n",
       "  <thead>\n",
       "    <tr style=\"text-align: right;\">\n",
       "      <th></th>\n",
       "      <th>cv_index</th>\n",
       "      <th>iteration_counts</th>\n",
       "      <th>train-mae-mean</th>\n",
       "      <th>test-mae-mean</th>\n",
       "    </tr>\n",
       "  </thead>\n",
       "  <tbody>\n",
       "    <tr>\n",
       "      <th>0</th>\n",
       "      <td>0</td>\n",
       "      <td>775</td>\n",
       "      <td>13.133448</td>\n",
       "      <td>16.077319</td>\n",
       "    </tr>\n",
       "    <tr>\n",
       "      <th>1</th>\n",
       "      <td>1</td>\n",
       "      <td>525</td>\n",
       "      <td>13.906366</td>\n",
       "      <td>15.957877</td>\n",
       "    </tr>\n",
       "    <tr>\n",
       "      <th>2</th>\n",
       "      <td>2</td>\n",
       "      <td>576</td>\n",
       "      <td>13.725328</td>\n",
       "      <td>15.996015</td>\n",
       "    </tr>\n",
       "    <tr>\n",
       "      <th>3</th>\n",
       "      <td>3</td>\n",
       "      <td>485</td>\n",
       "      <td>14.032430</td>\n",
       "      <td>16.071770</td>\n",
       "    </tr>\n",
       "    <tr>\n",
       "      <th>4</th>\n",
       "      <td>4</td>\n",
       "      <td>509</td>\n",
       "      <td>13.959529</td>\n",
       "      <td>16.062499</td>\n",
       "    </tr>\n",
       "  </tbody>\n",
       "</table>\n",
       "</div>"
      ],
      "text/plain": [
       "   cv_index  iteration_counts  train-mae-mean  test-mae-mean\n",
       "0         0               775       13.133448      16.077319\n",
       "1         1               525       13.906366      15.957877\n",
       "2         2               576       13.725328      15.996015\n",
       "3         3               485       14.032430      16.071770\n",
       "4         4               509       13.959529      16.062499"
      ]
     },
     "execution_count": 46,
     "metadata": {},
     "output_type": "execute_result"
    }
   ],
   "source": [
    "iteration_counts = [np.argmin(x['test-mae-mean'].values) for x in xgb_cv]\n",
    "train_mae = [np.min(x['train-mae-mean'].values) for x in xgb_cv]\n",
    "val_mae = [np.min(x['test-mae-mean'].values) for x in xgb_cv]\n",
    "\n",
    "cv_res = pd.DataFrame()\n",
    "cv_res['cv_index'] = list(range(n_cv))\n",
    "cv_res['iteration_counts'] = iteration_counts\n",
    "cv_res['train-mae-mean'] = train_mae\n",
    "cv_res['test-mae-mean'] = val_mae\n",
    "cv_res"
   ]
  },
  {
   "cell_type": "code",
   "execution_count": 47,
   "id": "10c3a54b",
   "metadata": {
    "ExecuteTime": {
     "end_time": "2022-04-10T10:17:29.848953Z",
     "start_time": "2022-04-10T10:16:34.601643Z"
    }
   },
   "outputs": [
    {
     "name": "stdout",
     "output_type": "stream",
     "text": [
      "Fold 0\n",
      "[18:16:34] WARNING: /Users/runner/miniforge3/conda-bld/xgboost-split_1645117948562/work/src/learner.cc:576: \n",
      "Parameters: { \"silent\" } might not be used.\n",
      "\n",
      "  This could be a false alarm, with some parameters getting used by language bindings but\n",
      "  then being mistakenly passed down to XGBoost core, or some parameter actually being used\n",
      "  but getting flagged wrongly here. Please open an issue if you find any such cases.\n",
      "\n",
      "\n",
      "[18:16:37] WARNING: /Users/runner/miniforge3/conda-bld/xgboost-split_1645117948562/work/src/learner.cc:576: \n",
      "Parameters: { \"silent\" } might not be used.\n",
      "\n",
      "  This could be a false alarm, with some parameters getting used by language bindings but\n",
      "  then being mistakenly passed down to XGBoost core, or some parameter actually being used\n",
      "  but getting flagged wrongly here. Please open an issue if you find any such cases.\n",
      "\n",
      "\n",
      "[18:16:39] WARNING: /Users/runner/miniforge3/conda-bld/xgboost-split_1645117948562/work/src/learner.cc:576: \n",
      "Parameters: { \"silent\" } might not be used.\n",
      "\n",
      "  This could be a false alarm, with some parameters getting used by language bindings but\n",
      "  then being mistakenly passed down to XGBoost core, or some parameter actually being used\n",
      "  but getting flagged wrongly here. Please open an issue if you find any such cases.\n",
      "\n",
      "\n",
      "[18:16:42] WARNING: /Users/runner/miniforge3/conda-bld/xgboost-split_1645117948562/work/src/learner.cc:576: \n",
      "Parameters: { \"silent\" } might not be used.\n",
      "\n",
      "  This could be a false alarm, with some parameters getting used by language bindings but\n",
      "  then being mistakenly passed down to XGBoost core, or some parameter actually being used\n",
      "  but getting flagged wrongly here. Please open an issue if you find any such cases.\n",
      "\n",
      "\n",
      "[18:16:45] WARNING: /Users/runner/miniforge3/conda-bld/xgboost-split_1645117948562/work/src/learner.cc:576: \n",
      "Parameters: { \"silent\" } might not be used.\n",
      "\n",
      "  This could be a false alarm, with some parameters getting used by language bindings but\n",
      "  then being mistakenly passed down to XGBoost core, or some parameter actually being used\n",
      "  but getting flagged wrongly here. Please open an issue if you find any such cases.\n",
      "\n",
      "\n",
      "\n",
      "Fold 1\n",
      "[18:16:47] WARNING: /Users/runner/miniforge3/conda-bld/xgboost-split_1645117948562/work/src/learner.cc:576: \n",
      "Parameters: { \"silent\" } might not be used.\n",
      "\n",
      "  This could be a false alarm, with some parameters getting used by language bindings but\n",
      "  then being mistakenly passed down to XGBoost core, or some parameter actually being used\n",
      "  but getting flagged wrongly here. Please open an issue if you find any such cases.\n",
      "\n",
      "\n",
      "[18:16:49] WARNING: /Users/runner/miniforge3/conda-bld/xgboost-split_1645117948562/work/src/learner.cc:576: \n",
      "Parameters: { \"silent\" } might not be used.\n",
      "\n",
      "  This could be a false alarm, with some parameters getting used by language bindings but\n",
      "  then being mistakenly passed down to XGBoost core, or some parameter actually being used\n",
      "  but getting flagged wrongly here. Please open an issue if you find any such cases.\n",
      "\n",
      "\n",
      "[18:16:51] WARNING: /Users/runner/miniforge3/conda-bld/xgboost-split_1645117948562/work/src/learner.cc:576: \n",
      "Parameters: { \"silent\" } might not be used.\n",
      "\n",
      "  This could be a false alarm, with some parameters getting used by language bindings but\n",
      "  then being mistakenly passed down to XGBoost core, or some parameter actually being used\n",
      "  but getting flagged wrongly here. Please open an issue if you find any such cases.\n",
      "\n",
      "\n",
      "[18:16:53] WARNING: /Users/runner/miniforge3/conda-bld/xgboost-split_1645117948562/work/src/learner.cc:576: \n",
      "Parameters: { \"silent\" } might not be used.\n",
      "\n",
      "  This could be a false alarm, with some parameters getting used by language bindings but\n",
      "  then being mistakenly passed down to XGBoost core, or some parameter actually being used\n",
      "  but getting flagged wrongly here. Please open an issue if you find any such cases.\n",
      "\n",
      "\n",
      "[18:16:55] WARNING: /Users/runner/miniforge3/conda-bld/xgboost-split_1645117948562/work/src/learner.cc:576: \n",
      "Parameters: { \"silent\" } might not be used.\n",
      "\n",
      "  This could be a false alarm, with some parameters getting used by language bindings but\n",
      "  then being mistakenly passed down to XGBoost core, or some parameter actually being used\n",
      "  but getting flagged wrongly here. Please open an issue if you find any such cases.\n",
      "\n",
      "\n",
      "\n",
      "Fold 2\n",
      "[18:16:57] WARNING: /Users/runner/miniforge3/conda-bld/xgboost-split_1645117948562/work/src/learner.cc:576: \n",
      "Parameters: { \"silent\" } might not be used.\n",
      "\n",
      "  This could be a false alarm, with some parameters getting used by language bindings but\n",
      "  then being mistakenly passed down to XGBoost core, or some parameter actually being used\n",
      "  but getting flagged wrongly here. Please open an issue if you find any such cases.\n",
      "\n",
      "\n",
      "[18:16:59] WARNING: /Users/runner/miniforge3/conda-bld/xgboost-split_1645117948562/work/src/learner.cc:576: \n",
      "Parameters: { \"silent\" } might not be used.\n",
      "\n",
      "  This could be a false alarm, with some parameters getting used by language bindings but\n",
      "  then being mistakenly passed down to XGBoost core, or some parameter actually being used\n",
      "  but getting flagged wrongly here. Please open an issue if you find any such cases.\n",
      "\n",
      "\n",
      "[18:17:02] WARNING: /Users/runner/miniforge3/conda-bld/xgboost-split_1645117948562/work/src/learner.cc:576: \n",
      "Parameters: { \"silent\" } might not be used.\n",
      "\n",
      "  This could be a false alarm, with some parameters getting used by language bindings but\n",
      "  then being mistakenly passed down to XGBoost core, or some parameter actually being used\n",
      "  but getting flagged wrongly here. Please open an issue if you find any such cases.\n",
      "\n",
      "\n",
      "[18:17:04] WARNING: /Users/runner/miniforge3/conda-bld/xgboost-split_1645117948562/work/src/learner.cc:576: \n",
      "Parameters: { \"silent\" } might not be used.\n",
      "\n",
      "  This could be a false alarm, with some parameters getting used by language bindings but\n",
      "  then being mistakenly passed down to XGBoost core, or some parameter actually being used\n",
      "  but getting flagged wrongly here. Please open an issue if you find any such cases.\n",
      "\n",
      "\n",
      "[18:17:07] WARNING: /Users/runner/miniforge3/conda-bld/xgboost-split_1645117948562/work/src/learner.cc:576: \n",
      "Parameters: { \"silent\" } might not be used.\n",
      "\n",
      "  This could be a false alarm, with some parameters getting used by language bindings but\n",
      "  then being mistakenly passed down to XGBoost core, or some parameter actually being used\n",
      "  but getting flagged wrongly here. Please open an issue if you find any such cases.\n",
      "\n",
      "\n",
      "\n",
      "Fold 3\n",
      "[18:17:09] WARNING: /Users/runner/miniforge3/conda-bld/xgboost-split_1645117948562/work/src/learner.cc:576: \n",
      "Parameters: { \"silent\" } might not be used.\n",
      "\n",
      "  This could be a false alarm, with some parameters getting used by language bindings but\n",
      "  then being mistakenly passed down to XGBoost core, or some parameter actually being used\n",
      "  but getting flagged wrongly here. Please open an issue if you find any such cases.\n",
      "\n",
      "\n",
      "[18:17:11] WARNING: /Users/runner/miniforge3/conda-bld/xgboost-split_1645117948562/work/src/learner.cc:576: \n",
      "Parameters: { \"silent\" } might not be used.\n",
      "\n",
      "  This could be a false alarm, with some parameters getting used by language bindings but\n",
      "  then being mistakenly passed down to XGBoost core, or some parameter actually being used\n",
      "  but getting flagged wrongly here. Please open an issue if you find any such cases.\n",
      "\n",
      "\n",
      "[18:17:12] WARNING: /Users/runner/miniforge3/conda-bld/xgboost-split_1645117948562/work/src/learner.cc:576: \n",
      "Parameters: { \"silent\" } might not be used.\n",
      "\n",
      "  This could be a false alarm, with some parameters getting used by language bindings but\n",
      "  then being mistakenly passed down to XGBoost core, or some parameter actually being used\n",
      "  but getting flagged wrongly here. Please open an issue if you find any such cases.\n",
      "\n",
      "\n",
      "[18:17:14] WARNING: /Users/runner/miniforge3/conda-bld/xgboost-split_1645117948562/work/src/learner.cc:576: \n",
      "Parameters: { \"silent\" } might not be used.\n",
      "\n",
      "  This could be a false alarm, with some parameters getting used by language bindings but\n",
      "  then being mistakenly passed down to XGBoost core, or some parameter actually being used\n",
      "  but getting flagged wrongly here. Please open an issue if you find any such cases.\n",
      "\n",
      "\n",
      "[18:17:16] WARNING: /Users/runner/miniforge3/conda-bld/xgboost-split_1645117948562/work/src/learner.cc:576: \n",
      "Parameters: { \"silent\" } might not be used.\n",
      "\n",
      "  This could be a false alarm, with some parameters getting used by language bindings but\n",
      "  then being mistakenly passed down to XGBoost core, or some parameter actually being used\n",
      "  but getting flagged wrongly here. Please open an issue if you find any such cases.\n",
      "\n",
      "\n"
     ]
    },
    {
     "name": "stdout",
     "output_type": "stream",
     "text": [
      "\n",
      "Fold 4\n",
      "[18:17:19] WARNING: /Users/runner/miniforge3/conda-bld/xgboost-split_1645117948562/work/src/learner.cc:576: \n",
      "Parameters: { \"silent\" } might not be used.\n",
      "\n",
      "  This could be a false alarm, with some parameters getting used by language bindings but\n",
      "  then being mistakenly passed down to XGBoost core, or some parameter actually being used\n",
      "  but getting flagged wrongly here. Please open an issue if you find any such cases.\n",
      "\n",
      "\n",
      "[18:17:21] WARNING: /Users/runner/miniforge3/conda-bld/xgboost-split_1645117948562/work/src/learner.cc:576: \n",
      "Parameters: { \"silent\" } might not be used.\n",
      "\n",
      "  This could be a false alarm, with some parameters getting used by language bindings but\n",
      "  then being mistakenly passed down to XGBoost core, or some parameter actually being used\n",
      "  but getting flagged wrongly here. Please open an issue if you find any such cases.\n",
      "\n",
      "\n",
      "[18:17:23] WARNING: /Users/runner/miniforge3/conda-bld/xgboost-split_1645117948562/work/src/learner.cc:576: \n",
      "Parameters: { \"silent\" } might not be used.\n",
      "\n",
      "  This could be a false alarm, with some parameters getting used by language bindings but\n",
      "  then being mistakenly passed down to XGBoost core, or some parameter actually being used\n",
      "  but getting flagged wrongly here. Please open an issue if you find any such cases.\n",
      "\n",
      "\n",
      "[18:17:25] WARNING: /Users/runner/miniforge3/conda-bld/xgboost-split_1645117948562/work/src/learner.cc:576: \n",
      "Parameters: { \"silent\" } might not be used.\n",
      "\n",
      "  This could be a false alarm, with some parameters getting used by language bindings but\n",
      "  then being mistakenly passed down to XGBoost core, or some parameter actually being used\n",
      "  but getting flagged wrongly here. Please open an issue if you find any such cases.\n",
      "\n",
      "\n",
      "[18:17:27] WARNING: /Users/runner/miniforge3/conda-bld/xgboost-split_1645117948562/work/src/learner.cc:576: \n",
      "Parameters: { \"silent\" } might not be used.\n",
      "\n",
      "  This could be a false alarm, with some parameters getting used by language bindings but\n",
      "  then being mistakenly passed down to XGBoost core, or some parameter actually being used\n",
      "  but getting flagged wrongly here. Please open an issue if you find any such cases.\n",
      "\n",
      "\n",
      "\n"
     ]
    }
   ],
   "source": [
    "oof_preds = []\n",
    "models = []\n",
    "\n",
    "for i in range(n_cv):\n",
    "    print(f'Fold {i}')\n",
    "    preds = y.copy()\n",
    "    kfold = KFold(n_splits=5, shuffle=True, random_state = i)    \n",
    "    for train_index, val_index in kfold.split(X, y):\n",
    "        dtrain_i = xgb.DMatrix(X[train_index], label=y[train_index])\n",
    "        dval_i = xgb.DMatrix(X[val_index], label=y[val_index])  \n",
    "        model = xgb.train(params=param,\n",
    "                          dtrain=dtrain_i,\n",
    "                          num_boost_round=iteration_counts[i],\n",
    "                          verbose_eval=50)\n",
    "        preds[val_index] = model.predict(dval_i)\n",
    "    models.append(model)\n",
    "    oof_preds.append(np.clip(preds, -50, 50))\n",
    "    print()"
   ]
  },
  {
   "cell_type": "code",
   "execution_count": 48,
   "id": "8acb1621",
   "metadata": {
    "ExecuteTime": {
     "end_time": "2022-04-10T10:17:30.724063Z",
     "start_time": "2022-04-10T10:17:29.852323Z"
    }
   },
   "outputs": [
    {
     "data": {
      "text/plain": [
       "<AxesSubplot:title={'center':'Feature importance'}, xlabel='F score', ylabel='Features'>"
      ]
     },
     "execution_count": 48,
     "metadata": {},
     "output_type": "execute_result"
    },
    {
     "data": {
      "image/png": "[encoded data removed]",
      "text/plain": [
       "<Figure size 1152x720 with 1 Axes>"
      ]
     },
     "metadata": {
      "needs_background": "light"
     },
     "output_type": "display_data"
    }
   ],
   "source": [
    "figsize(16, 10)\n",
    "xgb.plot_importance(models[0], \n",
    "                    max_num_features=50, \n",
    "                    height=0.5, \n",
    "                    importance_type='weight')"
   ]
  },
  {
   "cell_type": "markdown",
   "id": "d13bbb43",
   "metadata": {},
   "source": [
    "Check feature importance"
   ]
  },
  {
   "cell_type": "code",
   "execution_count": 49,
   "id": "3fd675aa",
   "metadata": {
    "ExecuteTime": {
     "end_time": "2022-04-10T10:17:30.731854Z",
     "start_time": "2022-04-10T10:17:30.726432Z"
    }
   },
   "outputs": [],
   "source": [
    "def check_feature_importance(models, features=features):\n",
    "    scores_weight = [model.get_score(importance_type='weight')\n",
    "                     for model in models]\n",
    "    res = pd.DataFrame()\n",
    "    res['feature'] = list(set(scores_weight[0].keys()))\n",
    "    res['feature_name'] = res['feature'].apply(lambda x: x.replace('f', ''))\\\n",
    "                                        .apply(int)\\\n",
    "                                        .apply(lambda x: features[x])\n",
    "    res['avg_weight'] = res['feature'].apply(lambda x: np.mean([w[x] \n",
    "                                                                for w in scores_weight]))\n",
    "    res = res.sort_values('avg_weight', ascending=False)\n",
    "    res['rank'] = list(range(1, len(res)+1))\n",
    "    return res"
   ]
  },
  {
   "cell_type": "code",
   "execution_count": 50,
   "id": "4c7c8f97",
   "metadata": {
    "ExecuteTime": {
     "end_time": "2022-04-10T10:17:30.753216Z",
     "start_time": "2022-04-10T10:17:30.733747Z"
    }
   },
   "outputs": [],
   "source": [
    "df_feature_importance = check_feature_importance(models)"
   ]
  },
  {
   "cell_type": "code",
   "execution_count": 51,
   "id": "dfe6c122",
   "metadata": {
    "ExecuteTime": {
     "end_time": "2022-04-10T10:17:30.767979Z",
     "start_time": "2022-04-10T10:17:30.756651Z"
    }
   },
   "outputs": [
    {
     "data": {
      "text/html": [
       "<div>\n",
       "<style scoped>\n",
       "    .dataframe tbody tr th:only-of-type {\n",
       "        vertical-align: middle;\n",
       "    }\n",
       "\n",
       "    .dataframe tbody tr th {\n",
       "        vertical-align: top;\n",
       "    }\n",
       "\n",
       "    .dataframe thead th {\n",
       "        text-align: right;\n",
       "    }\n",
       "</style>\n",
       "<table border=\"1\" class=\"dataframe\">\n",
       "  <thead>\n",
       "    <tr style=\"text-align: right;\">\n",
       "      <th></th>\n",
       "      <th>feature</th>\n",
       "      <th>feature_name</th>\n",
       "      <th>avg_weight</th>\n",
       "      <th>rank</th>\n",
       "    </tr>\n",
       "  </thead>\n",
       "  <tbody>\n",
       "    <tr>\n",
       "      <th>31</th>\n",
       "      <td>f65</td>\n",
       "      <td>Diff538rating</td>\n",
       "      <td>2334.0</td>\n",
       "      <td>1</td>\n",
       "    </tr>\n",
       "    <tr>\n",
       "      <th>39</th>\n",
       "      <td>f63</td>\n",
       "      <td>B538rating</td>\n",
       "      <td>582.8</td>\n",
       "      <td>2</td>\n",
       "    </tr>\n",
       "    <tr>\n",
       "      <th>9</th>\n",
       "      <td>f31</td>\n",
       "      <td>A538rating</td>\n",
       "      <td>567.8</td>\n",
       "      <td>3</td>\n",
       "    </tr>\n",
       "    <tr>\n",
       "      <th>7</th>\n",
       "      <td>f3</td>\n",
       "      <td>A_Tm_off_TO%_RS</td>\n",
       "      <td>353.8</td>\n",
       "      <td>4</td>\n",
       "    </tr>\n",
       "    <tr>\n",
       "      <th>43</th>\n",
       "      <td>f4</td>\n",
       "      <td>A_Tm_off_OR%_RS</td>\n",
       "      <td>353.6</td>\n",
       "      <td>5</td>\n",
       "    </tr>\n",
       "    <tr>\n",
       "      <th>41</th>\n",
       "      <td>f50</td>\n",
       "      <td>B_Tm_off_TO%_L30</td>\n",
       "      <td>349.6</td>\n",
       "      <td>6</td>\n",
       "    </tr>\n",
       "    <tr>\n",
       "      <th>27</th>\n",
       "      <td>f35</td>\n",
       "      <td>B_Tm_off_TO%_RS</td>\n",
       "      <td>342.2</td>\n",
       "      <td>7</td>\n",
       "    </tr>\n",
       "    <tr>\n",
       "      <th>1</th>\n",
       "      <td>f36</td>\n",
       "      <td>B_Tm_off_OR%_RS</td>\n",
       "      <td>339.2</td>\n",
       "      <td>8</td>\n",
       "    </tr>\n",
       "    <tr>\n",
       "      <th>60</th>\n",
       "      <td>f64</td>\n",
       "      <td>DiffSeed</td>\n",
       "      <td>330.6</td>\n",
       "      <td>9</td>\n",
       "    </tr>\n",
       "    <tr>\n",
       "      <th>51</th>\n",
       "      <td>f18</td>\n",
       "      <td>A_Tm_off_TO%_L30</td>\n",
       "      <td>325.8</td>\n",
       "      <td>10</td>\n",
       "    </tr>\n",
       "    <tr>\n",
       "      <th>3</th>\n",
       "      <td>f11</td>\n",
       "      <td>A_Tm_net_PP100P_RS</td>\n",
       "      <td>258.0</td>\n",
       "      <td>11</td>\n",
       "    </tr>\n",
       "    <tr>\n",
       "      <th>34</th>\n",
       "      <td>f43</td>\n",
       "      <td>B_Tm_net_PP100P_RS</td>\n",
       "      <td>246.0</td>\n",
       "      <td>12</td>\n",
       "    </tr>\n",
       "    <tr>\n",
       "      <th>62</th>\n",
       "      <td>f38</td>\n",
       "      <td>B_Tm_def_PP100P_RS</td>\n",
       "      <td>242.8</td>\n",
       "      <td>13</td>\n",
       "    </tr>\n",
       "    <tr>\n",
       "      <th>50</th>\n",
       "      <td>f57</td>\n",
       "      <td>B_Tm_def_FTr_L30</td>\n",
       "      <td>233.2</td>\n",
       "      <td>14</td>\n",
       "    </tr>\n",
       "    <tr>\n",
       "      <th>30</th>\n",
       "      <td>f16</td>\n",
       "      <td>A_Tm_off_PP100P_L30</td>\n",
       "      <td>228.6</td>\n",
       "      <td>15</td>\n",
       "    </tr>\n",
       "    <tr>\n",
       "      <th>45</th>\n",
       "      <td>f20</td>\n",
       "      <td>A_Tm_off_FTr_L30</td>\n",
       "      <td>227.8</td>\n",
       "      <td>16</td>\n",
       "    </tr>\n",
       "    <tr>\n",
       "      <th>8</th>\n",
       "      <td>f6</td>\n",
       "      <td>A_Tm_def_PP100P_RS</td>\n",
       "      <td>215.4</td>\n",
       "      <td>17</td>\n",
       "    </tr>\n",
       "    <tr>\n",
       "      <th>23</th>\n",
       "      <td>f48</td>\n",
       "      <td>B_Tm_off_PP100P_L30</td>\n",
       "      <td>211.6</td>\n",
       "      <td>18</td>\n",
       "    </tr>\n",
       "    <tr>\n",
       "      <th>33</th>\n",
       "      <td>f52</td>\n",
       "      <td>B_Tm_off_FTr_L30</td>\n",
       "      <td>198.6</td>\n",
       "      <td>19</td>\n",
       "    </tr>\n",
       "    <tr>\n",
       "      <th>38</th>\n",
       "      <td>f9</td>\n",
       "      <td>A_Tm_def_OR%_RS</td>\n",
       "      <td>197.4</td>\n",
       "      <td>20</td>\n",
       "    </tr>\n",
       "  </tbody>\n",
       "</table>\n",
       "</div>"
      ],
      "text/plain": [
       "   feature         feature_name  avg_weight  rank\n",
       "31     f65        Diff538rating      2334.0     1\n",
       "39     f63           B538rating       582.8     2\n",
       "9      f31           A538rating       567.8     3\n",
       "7       f3      A_Tm_off_TO%_RS       353.8     4\n",
       "43      f4      A_Tm_off_OR%_RS       353.6     5\n",
       "41     f50     B_Tm_off_TO%_L30       349.6     6\n",
       "27     f35      B_Tm_off_TO%_RS       342.2     7\n",
       "1      f36      B_Tm_off_OR%_RS       339.2     8\n",
       "60     f64             DiffSeed       330.6     9\n",
       "51     f18     A_Tm_off_TO%_L30       325.8    10\n",
       "3      f11   A_Tm_net_PP100P_RS       258.0    11\n",
       "34     f43   B_Tm_net_PP100P_RS       246.0    12\n",
       "62     f38   B_Tm_def_PP100P_RS       242.8    13\n",
       "50     f57     B_Tm_def_FTr_L30       233.2    14\n",
       "30     f16  A_Tm_off_PP100P_L30       228.6    15\n",
       "45     f20     A_Tm_off_FTr_L30       227.8    16\n",
       "8       f6   A_Tm_def_PP100P_RS       215.4    17\n",
       "23     f48  B_Tm_off_PP100P_L30       211.6    18\n",
       "33     f52     B_Tm_off_FTr_L30       198.6    19\n",
       "38      f9      A_Tm_def_OR%_RS       197.4    20"
      ]
     },
     "execution_count": 51,
     "metadata": {},
     "output_type": "execute_result"
    }
   ],
   "source": [
    "df_feature_importance.head(20)"
   ]
  },
  {
   "cell_type": "code",
   "execution_count": 52,
   "id": "0cc57bee",
   "metadata": {
    "ExecuteTime": {
     "end_time": "2022-04-10T10:17:30.782522Z",
     "start_time": "2022-04-10T10:17:30.770548Z"
    }
   },
   "outputs": [
    {
     "data": {
      "text/html": [
       "<div>\n",
       "<style scoped>\n",
       "    .dataframe tbody tr th:only-of-type {\n",
       "        vertical-align: middle;\n",
       "    }\n",
       "\n",
       "    .dataframe tbody tr th {\n",
       "        vertical-align: top;\n",
       "    }\n",
       "\n",
       "    .dataframe thead th {\n",
       "        text-align: right;\n",
       "    }\n",
       "</style>\n",
       "<table border=\"1\" class=\"dataframe\">\n",
       "  <thead>\n",
       "    <tr style=\"text-align: right;\">\n",
       "      <th></th>\n",
       "      <th>feature</th>\n",
       "      <th>feature_name</th>\n",
       "      <th>avg_weight</th>\n",
       "      <th>rank</th>\n",
       "    </tr>\n",
       "  </thead>\n",
       "  <tbody>\n",
       "    <tr>\n",
       "      <th>63</th>\n",
       "      <td>f33</td>\n",
       "      <td>B_Tm_off_PP100P_RS</td>\n",
       "      <td>114.4</td>\n",
       "      <td>47</td>\n",
       "    </tr>\n",
       "    <tr>\n",
       "      <th>20</th>\n",
       "      <td>f27</td>\n",
       "      <td>A_Tm_net_eFG_L30</td>\n",
       "      <td>113.6</td>\n",
       "      <td>48</td>\n",
       "    </tr>\n",
       "    <tr>\n",
       "      <th>57</th>\n",
       "      <td>f40</td>\n",
       "      <td>B_Tm_def_TO%_RS</td>\n",
       "      <td>113.4</td>\n",
       "      <td>49</td>\n",
       "    </tr>\n",
       "    <tr>\n",
       "      <th>56</th>\n",
       "      <td>f55</td>\n",
       "      <td>B_Tm_def_TO%_L30</td>\n",
       "      <td>113.0</td>\n",
       "      <td>50</td>\n",
       "    </tr>\n",
       "    <tr>\n",
       "      <th>10</th>\n",
       "      <td>f51</td>\n",
       "      <td>B_Tm_off_OR%_L30</td>\n",
       "      <td>112.8</td>\n",
       "      <td>51</td>\n",
       "    </tr>\n",
       "    <tr>\n",
       "      <th>64</th>\n",
       "      <td>f47</td>\n",
       "      <td>B_Tm_net_FTr_RS</td>\n",
       "      <td>110.8</td>\n",
       "      <td>52</td>\n",
       "    </tr>\n",
       "    <tr>\n",
       "      <th>61</th>\n",
       "      <td>f15</td>\n",
       "      <td>A_Tm_net_FTr_RS</td>\n",
       "      <td>108.0</td>\n",
       "      <td>53</td>\n",
       "    </tr>\n",
       "    <tr>\n",
       "      <th>6</th>\n",
       "      <td>f58</td>\n",
       "      <td>B_Tm_net_PP100P_L30</td>\n",
       "      <td>107.0</td>\n",
       "      <td>54</td>\n",
       "    </tr>\n",
       "    <tr>\n",
       "      <th>29</th>\n",
       "      <td>f8</td>\n",
       "      <td>A_Tm_def_TO%_RS</td>\n",
       "      <td>106.6</td>\n",
       "      <td>55</td>\n",
       "    </tr>\n",
       "    <tr>\n",
       "      <th>28</th>\n",
       "      <td>f12</td>\n",
       "      <td>A_Tm_net_eFG_RS</td>\n",
       "      <td>103.6</td>\n",
       "      <td>56</td>\n",
       "    </tr>\n",
       "    <tr>\n",
       "      <th>37</th>\n",
       "      <td>f19</td>\n",
       "      <td>A_Tm_off_OR%_L30</td>\n",
       "      <td>99.8</td>\n",
       "      <td>57</td>\n",
       "    </tr>\n",
       "    <tr>\n",
       "      <th>52</th>\n",
       "      <td>f44</td>\n",
       "      <td>B_Tm_net_eFG_RS</td>\n",
       "      <td>96.4</td>\n",
       "      <td>58</td>\n",
       "    </tr>\n",
       "    <tr>\n",
       "      <th>40</th>\n",
       "      <td>f29</td>\n",
       "      <td>A_Tm_net_OR%_L30</td>\n",
       "      <td>95.8</td>\n",
       "      <td>59</td>\n",
       "    </tr>\n",
       "    <tr>\n",
       "      <th>14</th>\n",
       "      <td>f32</td>\n",
       "      <td>BSeed</td>\n",
       "      <td>94.6</td>\n",
       "      <td>60</td>\n",
       "    </tr>\n",
       "    <tr>\n",
       "      <th>5</th>\n",
       "      <td>f0</td>\n",
       "      <td>ASeed</td>\n",
       "      <td>92.8</td>\n",
       "      <td>61</td>\n",
       "    </tr>\n",
       "    <tr>\n",
       "      <th>13</th>\n",
       "      <td>f26</td>\n",
       "      <td>A_Tm_net_PP100P_L30</td>\n",
       "      <td>89.8</td>\n",
       "      <td>62</td>\n",
       "    </tr>\n",
       "    <tr>\n",
       "      <th>59</th>\n",
       "      <td>f34</td>\n",
       "      <td>B_Tm_off_eFG_RS</td>\n",
       "      <td>89.0</td>\n",
       "      <td>63</td>\n",
       "    </tr>\n",
       "    <tr>\n",
       "      <th>49</th>\n",
       "      <td>f49</td>\n",
       "      <td>B_Tm_off_eFG_L30</td>\n",
       "      <td>87.4</td>\n",
       "      <td>64</td>\n",
       "    </tr>\n",
       "    <tr>\n",
       "      <th>58</th>\n",
       "      <td>f17</td>\n",
       "      <td>A_Tm_off_eFG_L30</td>\n",
       "      <td>83.0</td>\n",
       "      <td>65</td>\n",
       "    </tr>\n",
       "    <tr>\n",
       "      <th>25</th>\n",
       "      <td>f2</td>\n",
       "      <td>A_Tm_off_eFG_RS</td>\n",
       "      <td>82.2</td>\n",
       "      <td>66</td>\n",
       "    </tr>\n",
       "  </tbody>\n",
       "</table>\n",
       "</div>"
      ],
      "text/plain": [
       "   feature         feature_name  avg_weight  rank\n",
       "63     f33   B_Tm_off_PP100P_RS       114.4    47\n",
       "20     f27     A_Tm_net_eFG_L30       113.6    48\n",
       "57     f40      B_Tm_def_TO%_RS       113.4    49\n",
       "56     f55     B_Tm_def_TO%_L30       113.0    50\n",
       "10     f51     B_Tm_off_OR%_L30       112.8    51\n",
       "64     f47      B_Tm_net_FTr_RS       110.8    52\n",
       "61     f15      A_Tm_net_FTr_RS       108.0    53\n",
       "6      f58  B_Tm_net_PP100P_L30       107.0    54\n",
       "29      f8      A_Tm_def_TO%_RS       106.6    55\n",
       "28     f12      A_Tm_net_eFG_RS       103.6    56\n",
       "37     f19     A_Tm_off_OR%_L30        99.8    57\n",
       "52     f44      B_Tm_net_eFG_RS        96.4    58\n",
       "40     f29     A_Tm_net_OR%_L30        95.8    59\n",
       "14     f32                BSeed        94.6    60\n",
       "5       f0                ASeed        92.8    61\n",
       "13     f26  A_Tm_net_PP100P_L30        89.8    62\n",
       "59     f34      B_Tm_off_eFG_RS        89.0    63\n",
       "49     f49     B_Tm_off_eFG_L30        87.4    64\n",
       "58     f17     A_Tm_off_eFG_L30        83.0    65\n",
       "25      f2      A_Tm_off_eFG_RS        82.2    66"
      ]
     },
     "execution_count": 52,
     "metadata": {},
     "output_type": "execute_result"
    }
   ],
   "source": [
    "df_feature_importance.tail(20)"
   ]
  },
  {
   "cell_type": "code",
   "execution_count": 53,
   "id": "b1280d6d",
   "metadata": {
    "ExecuteTime": {
     "end_time": "2022-04-10T10:17:30.799173Z",
     "start_time": "2022-04-10T10:17:30.785430Z"
    }
   },
   "outputs": [
    {
     "data": {
      "text/html": [
       "<div>\n",
       "<style scoped>\n",
       "    .dataframe tbody tr th:only-of-type {\n",
       "        vertical-align: middle;\n",
       "    }\n",
       "\n",
       "    .dataframe tbody tr th {\n",
       "        vertical-align: top;\n",
       "    }\n",
       "\n",
       "    .dataframe thead th {\n",
       "        text-align: right;\n",
       "    }\n",
       "</style>\n",
       "<table border=\"1\" class=\"dataframe\">\n",
       "  <thead>\n",
       "    <tr style=\"text-align: right;\">\n",
       "      <th></th>\n",
       "      <th>feature</th>\n",
       "      <th>feature_name</th>\n",
       "      <th>avg_weight</th>\n",
       "      <th>rank</th>\n",
       "    </tr>\n",
       "  </thead>\n",
       "  <tbody>\n",
       "    <tr>\n",
       "      <th>3</th>\n",
       "      <td>f11</td>\n",
       "      <td>A_Tm_net_PP100P_RS</td>\n",
       "      <td>258.0</td>\n",
       "      <td>11</td>\n",
       "    </tr>\n",
       "    <tr>\n",
       "      <th>34</th>\n",
       "      <td>f43</td>\n",
       "      <td>B_Tm_net_PP100P_RS</td>\n",
       "      <td>246.0</td>\n",
       "      <td>12</td>\n",
       "    </tr>\n",
       "    <tr>\n",
       "      <th>62</th>\n",
       "      <td>f38</td>\n",
       "      <td>B_Tm_def_PP100P_RS</td>\n",
       "      <td>242.8</td>\n",
       "      <td>13</td>\n",
       "    </tr>\n",
       "    <tr>\n",
       "      <th>30</th>\n",
       "      <td>f16</td>\n",
       "      <td>A_Tm_off_PP100P_L30</td>\n",
       "      <td>228.6</td>\n",
       "      <td>15</td>\n",
       "    </tr>\n",
       "    <tr>\n",
       "      <th>8</th>\n",
       "      <td>f6</td>\n",
       "      <td>A_Tm_def_PP100P_RS</td>\n",
       "      <td>215.4</td>\n",
       "      <td>17</td>\n",
       "    </tr>\n",
       "    <tr>\n",
       "      <th>23</th>\n",
       "      <td>f48</td>\n",
       "      <td>B_Tm_off_PP100P_L30</td>\n",
       "      <td>211.6</td>\n",
       "      <td>18</td>\n",
       "    </tr>\n",
       "    <tr>\n",
       "      <th>4</th>\n",
       "      <td>f53</td>\n",
       "      <td>B_Tm_def_PP100P_L30</td>\n",
       "      <td>194.0</td>\n",
       "      <td>21</td>\n",
       "    </tr>\n",
       "    <tr>\n",
       "      <th>53</th>\n",
       "      <td>f21</td>\n",
       "      <td>A_Tm_def_PP100P_L30</td>\n",
       "      <td>170.2</td>\n",
       "      <td>23</td>\n",
       "    </tr>\n",
       "    <tr>\n",
       "      <th>65</th>\n",
       "      <td>f1</td>\n",
       "      <td>A_Tm_off_PP100P_RS</td>\n",
       "      <td>122.4</td>\n",
       "      <td>42</td>\n",
       "    </tr>\n",
       "    <tr>\n",
       "      <th>63</th>\n",
       "      <td>f33</td>\n",
       "      <td>B_Tm_off_PP100P_RS</td>\n",
       "      <td>114.4</td>\n",
       "      <td>47</td>\n",
       "    </tr>\n",
       "    <tr>\n",
       "      <th>6</th>\n",
       "      <td>f58</td>\n",
       "      <td>B_Tm_net_PP100P_L30</td>\n",
       "      <td>107.0</td>\n",
       "      <td>54</td>\n",
       "    </tr>\n",
       "    <tr>\n",
       "      <th>13</th>\n",
       "      <td>f26</td>\n",
       "      <td>A_Tm_net_PP100P_L30</td>\n",
       "      <td>89.8</td>\n",
       "      <td>62</td>\n",
       "    </tr>\n",
       "  </tbody>\n",
       "</table>\n",
       "</div>"
      ],
      "text/plain": [
       "   feature         feature_name  avg_weight  rank\n",
       "3      f11   A_Tm_net_PP100P_RS       258.0    11\n",
       "34     f43   B_Tm_net_PP100P_RS       246.0    12\n",
       "62     f38   B_Tm_def_PP100P_RS       242.8    13\n",
       "30     f16  A_Tm_off_PP100P_L30       228.6    15\n",
       "8       f6   A_Tm_def_PP100P_RS       215.4    17\n",
       "23     f48  B_Tm_off_PP100P_L30       211.6    18\n",
       "4      f53  B_Tm_def_PP100P_L30       194.0    21\n",
       "53     f21  A_Tm_def_PP100P_L30       170.2    23\n",
       "65      f1   A_Tm_off_PP100P_RS       122.4    42\n",
       "63     f33   B_Tm_off_PP100P_RS       114.4    47\n",
       "6      f58  B_Tm_net_PP100P_L30       107.0    54\n",
       "13     f26  A_Tm_net_PP100P_L30        89.8    62"
      ]
     },
     "execution_count": 53,
     "metadata": {},
     "output_type": "execute_result"
    }
   ],
   "source": [
    "df_feature_importance[df_feature_importance['feature_name'].str.contains('PP100P')]"
   ]
  },
  {
   "cell_type": "code",
   "execution_count": 54,
   "id": "4d5d5bc0",
   "metadata": {
    "ExecuteTime": {
     "end_time": "2022-04-10T10:17:30.815925Z",
     "start_time": "2022-04-10T10:17:30.804444Z"
    }
   },
   "outputs": [
    {
     "data": {
      "text/html": [
       "<div>\n",
       "<style scoped>\n",
       "    .dataframe tbody tr th:only-of-type {\n",
       "        vertical-align: middle;\n",
       "    }\n",
       "\n",
       "    .dataframe tbody tr th {\n",
       "        vertical-align: top;\n",
       "    }\n",
       "\n",
       "    .dataframe thead th {\n",
       "        text-align: right;\n",
       "    }\n",
       "</style>\n",
       "<table border=\"1\" class=\"dataframe\">\n",
       "  <thead>\n",
       "    <tr style=\"text-align: right;\">\n",
       "      <th></th>\n",
       "      <th>feature</th>\n",
       "      <th>feature_name</th>\n",
       "      <th>avg_weight</th>\n",
       "      <th>rank</th>\n",
       "    </tr>\n",
       "  </thead>\n",
       "  <tbody>\n",
       "    <tr>\n",
       "      <th>60</th>\n",
       "      <td>f64</td>\n",
       "      <td>DiffSeed</td>\n",
       "      <td>330.6</td>\n",
       "      <td>9</td>\n",
       "    </tr>\n",
       "    <tr>\n",
       "      <th>14</th>\n",
       "      <td>f32</td>\n",
       "      <td>BSeed</td>\n",
       "      <td>94.6</td>\n",
       "      <td>60</td>\n",
       "    </tr>\n",
       "    <tr>\n",
       "      <th>5</th>\n",
       "      <td>f0</td>\n",
       "      <td>ASeed</td>\n",
       "      <td>92.8</td>\n",
       "      <td>61</td>\n",
       "    </tr>\n",
       "  </tbody>\n",
       "</table>\n",
       "</div>"
      ],
      "text/plain": [
       "   feature feature_name  avg_weight  rank\n",
       "60     f64     DiffSeed       330.6     9\n",
       "14     f32        BSeed        94.6    60\n",
       "5       f0        ASeed        92.8    61"
      ]
     },
     "execution_count": 54,
     "metadata": {},
     "output_type": "execute_result"
    }
   ],
   "source": [
    "df_feature_importance[df_feature_importance['feature_name'].str.contains('Seed')]"
   ]
  },
  {
   "cell_type": "code",
   "execution_count": 55,
   "id": "237b1f48",
   "metadata": {
    "ExecuteTime": {
     "end_time": "2022-04-10T10:17:31.360248Z",
     "start_time": "2022-04-10T10:17:30.818222Z"
    }
   },
   "outputs": [
    {
     "data": {
      "text/plain": [
       "[<matplotlib.lines.Line2D at 0x7fb2d6744040>]"
      ]
     },
     "execution_count": 55,
     "metadata": {},
     "output_type": "execute_result"
    },
    {
     "data": {
      "image/png": "[encoded data removed]",
      "text/plain": [
       "<Figure size 1152x720 with 1 Axes>"
      ]
     },
     "metadata": {
      "needs_background": "light"
     },
     "output_type": "display_data"
    }
   ],
   "source": [
    "plot_df = pd.DataFrame({'pred': oof_preds[0], 'label': np.where(y > 0, 1, 0)})\n",
    "plot_df['pred_int'] = plot_df['pred'].apply(int)\n",
    "plot_df = plot_df.groupby('pred_int')['label'].mean().reset_index(name='avg_win_pct')\n",
    "\n",
    "figsize(16, 10)\n",
    "plt.plot(plot_df['pred_int'], plot_df['avg_win_pct'])"
   ]
  },
  {
   "cell_type": "markdown",
   "id": "e468e489",
   "metadata": {},
   "source": [
    "### Step 2: Predict winning probabilities based on the predicted gaps"
   ]
  },
  {
   "cell_type": "code",
   "execution_count": 56,
   "id": "94808559",
   "metadata": {
    "ExecuteTime": {
     "end_time": "2022-04-10T10:19:01.690721Z",
     "start_time": "2022-04-10T10:19:01.688301Z"
    }
   },
   "outputs": [],
   "source": [
    "eps = 0.00001"
   ]
  },
  {
   "cell_type": "code",
   "execution_count": 57,
   "id": "d90d81de",
   "metadata": {
    "ExecuteTime": {
     "end_time": "2022-04-10T10:19:11.216619Z",
     "start_time": "2022-04-10T10:19:11.180001Z"
    }
   },
   "outputs": [
    {
     "name": "stdout",
     "output_type": "stream",
     "text": [
      "Fold 0\n",
      "Before Clip: Min=-0.029, Max=1.010\n",
      "logloss of cvsplit 0: 0.435\n",
      "After Clip: Min=1e-05, Max=0.99999\n",
      "logloss of cvsplit 0: 0.435\n",
      "\n",
      "Fold 1\n",
      "Before Clip: Min=-0.054, Max=1.050\n",
      "logloss of cvsplit 1: 0.439\n",
      "After Clip: Min=1e-05, Max=0.99999\n",
      "logloss of cvsplit 1: 0.439\n",
      "\n",
      "Fold 2\n",
      "Before Clip: Min=-0.031, Max=1.033\n",
      "logloss of cvsplit 2: 0.436\n",
      "After Clip: Min=1e-05, Max=0.99999\n",
      "logloss of cvsplit 2: 0.436\n",
      "\n",
      "Fold 3\n",
      "Before Clip: Min=-0.039, Max=1.042\n",
      "logloss of cvsplit 3: 0.427\n",
      "After Clip: Min=1e-05, Max=0.99999\n",
      "logloss of cvsplit 3: 0.427\n",
      "\n",
      "Fold 4\n",
      "Before Clip: Min=-0.017, Max=1.013\n",
      "logloss of cvsplit 4: 0.433\n",
      "After Clip: Min=1e-05, Max=0.99999\n",
      "logloss of cvsplit 4: 0.433\n",
      "\n"
     ]
    }
   ],
   "source": [
    "spline_model = []\n",
    "\n",
    "for i in range(n_cv):\n",
    "    print(f'Fold {i}')\n",
    "    dat = list(zip(oof_preds[i], np.where(y>0,1,0)))\n",
    "    dat = sorted(dat, key = lambda x: x[0])\n",
    "    datdict = {}\n",
    "    for k in range(len(dat)):\n",
    "        datdict[dat[k][0]]= dat[k][1]\n",
    "        \n",
    "    spline_model.append(UnivariateSpline(list(datdict.keys()), list(datdict.values())))\n",
    "    spline_fit = spline_model[i](oof_preds[i])\n",
    "    print(f'Before Clip: Min={spline_fit.min():.3f}, Max={spline_fit.max():.3f}')\n",
    "    score = log_loss(np.where(y > 0, 1, 0), spline_fit)\n",
    "    print(f'logloss of cvsplit {i}: {score:.3f}') \n",
    "    spline_fit = np.clip(spline_fit, 0 + eps, 1 - eps)\n",
    "    print(f'After Clip: Min={spline_fit.min()}, Max={spline_fit.max()}')\n",
    "    score = log_loss(np.where(y > 0, 1, 0), spline_fit)\n",
    "    print(f'logloss of cvsplit {i}: {score:.3f}') \n",
    "    print()\n",
    "    "
   ]
  },
  {
   "cell_type": "code",
   "execution_count": 58,
   "id": "00ce7d29",
   "metadata": {
    "ExecuteTime": {
     "end_time": "2022-04-10T10:19:15.466023Z",
     "start_time": "2022-04-10T10:19:15.226668Z"
    }
   },
   "outputs": [
    {
     "data": {
      "text/plain": [
       "[<matplotlib.lines.Line2D at 0x7fb2dab87190>]"
      ]
     },
     "execution_count": 58,
     "metadata": {},
     "output_type": "execute_result"
    },
    {
     "data": {
      "image/png": "[encoded data removed]",
      "text/plain": [
       "<Figure size 1152x720 with 1 Axes>"
      ]
     },
     "metadata": {
      "needs_background": "light"
     },
     "output_type": "display_data"
    }
   ],
   "source": [
    "plot_df = pd.DataFrame({'pred': oof_preds[0], \n",
    "                        'label': np.where(y > 0, 1, 0), \n",
    "                        'spline': np.clip(spline_model[0](oof_preds[0]), 0, 1)})\n",
    "plot_df['pred_int'] = plot_df['pred'].apply(int)\n",
    "plot_df = plot_df.groupby('pred_int')['spline', 'label'].mean().reset_index()\n",
    "\n",
    "figsize(16, 10)\n",
    "plt.plot(plot_df['pred_int'], plot_df['spline'])\n",
    "plt.plot(plot_df['pred_int'], plot_df['label'])"
   ]
  },
  {
   "cell_type": "markdown",
   "id": "5c87d33a",
   "metadata": {},
   "source": [
    "## Test"
   ]
  },
  {
   "cell_type": "code",
   "execution_count": 59,
   "id": "4da2cf33",
   "metadata": {
    "ExecuteTime": {
     "end_time": "2022-04-10T10:19:37.217345Z",
     "start_time": "2022-04-10T10:19:37.198416Z"
    }
   },
   "outputs": [],
   "source": [
    "df_test = pd.read_csv(f'{directory.replace(\"2\", \"1\")}/WSampleSubmissionStage1.csv')"
   ]
  },
  {
   "cell_type": "code",
   "execution_count": 60,
   "id": "2e43ad05",
   "metadata": {
    "ExecuteTime": {
     "end_time": "2022-04-10T10:19:37.507321Z",
     "start_time": "2022-04-10T10:19:37.463729Z"
    }
   },
   "outputs": [],
   "source": [
    "df_test['Season'] = df_test['ID'].apply(lambda x: int(x.split('_')[0]))\n",
    "df_test['ATeamID'] = df_test['ID'].apply(lambda x: int(x.split('_')[1]))\n",
    "df_test['BTeamID'] = df_test['ID'].apply(lambda x: int(x.split('_')[2]))"
   ]
  },
  {
   "cell_type": "code",
   "execution_count": 61,
   "id": "47a3d1b1",
   "metadata": {
    "ExecuteTime": {
     "end_time": "2022-04-10T10:19:38.056679Z",
     "start_time": "2022-04-10T10:19:38.036349Z"
    }
   },
   "outputs": [],
   "source": [
    "for s in ['A', 'B']:\n",
    "    df_test = df_test.merge(add_side(df_features_season, s),\n",
    "                            on=['Season', f'{s}TeamID'],\n",
    "                            how='left')"
   ]
  },
  {
   "cell_type": "code",
   "execution_count": 62,
   "id": "cc1d3ab5",
   "metadata": {
    "ExecuteTime": {
     "end_time": "2022-04-10T10:19:38.274615Z",
     "start_time": "2022-04-10T10:19:38.255707Z"
    }
   },
   "outputs": [],
   "source": [
    "df_test = compute_diff(df_test, diff_cols)"
   ]
  },
  {
   "cell_type": "code",
   "execution_count": 63,
   "id": "50cab87a",
   "metadata": {
    "ExecuteTime": {
     "end_time": "2022-04-10T10:19:38.487748Z",
     "start_time": "2022-04-10T10:19:38.481712Z"
    }
   },
   "outputs": [
    {
     "data": {
      "text/plain": [
       "({'APP100P', 'AScore', 'BPP100P', 'BScore', 'DiffPP100P', 'DiffScore', 'WinA'},\n",
       " {'ID', 'Pred'})"
      ]
     },
     "execution_count": 63,
     "metadata": {},
     "output_type": "execute_result"
    }
   ],
   "source": [
    "set(df.columns) - set(df_test.columns), set(df_test.columns) - set(df.columns)"
   ]
  },
  {
   "cell_type": "code",
   "execution_count": 64,
   "id": "b6515560",
   "metadata": {
    "ExecuteTime": {
     "end_time": "2022-04-10T10:19:39.768929Z",
     "start_time": "2022-04-10T10:19:39.744594Z"
    }
   },
   "outputs": [],
   "source": [
    "X_test = df_test[features].values\n",
    "dtest = xgb.DMatrix(X_test)"
   ]
  },
  {
   "cell_type": "code",
   "execution_count": 65,
   "id": "0373ea59",
   "metadata": {
    "ExecuteTime": {
     "end_time": "2022-04-10T10:19:57.106513Z",
     "start_time": "2022-04-10T10:19:40.363949Z"
    }
   },
   "outputs": [
    {
     "name": "stdout",
     "output_type": "stream",
     "text": [
      "Fold 0\n",
      "[18:19:40] WARNING: /Users/runner/miniforge3/conda-bld/xgboost-split_1645117948562/work/src/learner.cc:576: \n",
      "Parameters: { \"silent\" } might not be used.\n",
      "\n",
      "  This could be a false alarm, with some parameters getting used by language bindings but\n",
      "  then being mistakenly passed down to XGBoost core, or some parameter actually being used\n",
      "  but getting flagged wrongly here. Please open an issue if you find any such cases.\n",
      "\n",
      "\n",
      "\n",
      "Fold 1\n",
      "[18:19:44] WARNING: /Users/runner/miniforge3/conda-bld/xgboost-split_1645117948562/work/src/learner.cc:576: \n",
      "Parameters: { \"silent\" } might not be used.\n",
      "\n",
      "  This could be a false alarm, with some parameters getting used by language bindings but\n",
      "  then being mistakenly passed down to XGBoost core, or some parameter actually being used\n",
      "  but getting flagged wrongly here. Please open an issue if you find any such cases.\n",
      "\n",
      "\n",
      "\n",
      "Fold 2\n",
      "[18:19:47] WARNING: /Users/runner/miniforge3/conda-bld/xgboost-split_1645117948562/work/src/learner.cc:576: \n",
      "Parameters: { \"silent\" } might not be used.\n",
      "\n",
      "  This could be a false alarm, with some parameters getting used by language bindings but\n",
      "  then being mistakenly passed down to XGBoost core, or some parameter actually being used\n",
      "  but getting flagged wrongly here. Please open an issue if you find any such cases.\n",
      "\n",
      "\n",
      "\n",
      "Fold 3\n",
      "[18:19:51] WARNING: /Users/runner/miniforge3/conda-bld/xgboost-split_1645117948562/work/src/learner.cc:576: \n",
      "Parameters: { \"silent\" } might not be used.\n",
      "\n",
      "  This could be a false alarm, with some parameters getting used by language bindings but\n",
      "  then being mistakenly passed down to XGBoost core, or some parameter actually being used\n",
      "  but getting flagged wrongly here. Please open an issue if you find any such cases.\n",
      "\n",
      "\n",
      "\n",
      "Fold 4\n",
      "[18:19:54] WARNING: /Users/runner/miniforge3/conda-bld/xgboost-split_1645117948562/work/src/learner.cc:576: \n",
      "Parameters: { \"silent\" } might not be used.\n",
      "\n",
      "  This could be a false alarm, with some parameters getting used by language bindings but\n",
      "  then being mistakenly passed down to XGBoost core, or some parameter actually being used\n",
      "  but getting flagged wrongly here. Please open an issue if you find any such cases.\n",
      "\n",
      "\n",
      "\n"
     ]
    }
   ],
   "source": [
    "test_models = []\n",
    "\n",
    "for i in range(n_cv):\n",
    "    print(f'Fold {i}')\n",
    "    test_models.append(xgb.train(params=param,\n",
    "                                 dtrain=dtrain,\n",
    "                                 num_boost_round=int(iteration_counts[i] * 1.1),\n",
    "                                 verbose_eval=50))\n",
    "    print()"
   ]
  },
  {
   "cell_type": "code",
   "execution_count": 66,
   "id": "d178e7d6",
   "metadata": {
    "ExecuteTime": {
     "end_time": "2022-04-10T10:19:58.126334Z",
     "start_time": "2022-04-10T10:19:57.109349Z"
    }
   },
   "outputs": [],
   "source": [
    "test_preds = []\n",
    "for i in range(n_cv):\n",
    "    pp100p_diff_pred = np.clip(test_models[i].predict(dtest), -50, 50)\n",
    "    test_preds.append(np.clip(spline_model[i](pp100p_diff_pred), \n",
    "                              0 + eps, 1 - eps))\n",
    "    \n",
    "df_test['Pred'] = pd.DataFrame(test_preds).mean(axis=0)"
   ]
  },
  {
   "cell_type": "markdown",
   "id": "5d4878a8",
   "metadata": {},
   "source": [
    "Manually edit the predictions of following scenarios based on the history (https://en.wikipedia.org/wiki/NCAA_Division_I_Women%27s_Basketball_Tournament_upsets):\n",
    "- Seeds 1/2/3 pass the first round\n",
    "- Seeds 1 pass the second round"
   ]
  },
  {
   "cell_type": "code",
   "execution_count": 67,
   "id": "4b014d35",
   "metadata": {
    "ExecuteTime": {
     "end_time": "2022-04-10T10:24:28.449191Z",
     "start_time": "2022-04-10T10:24:28.435580Z"
    }
   },
   "outputs": [],
   "source": [
    "df_test['Pred_Risky'] = df_test['Pred']\n",
    "df_test.loc[(df_test['ASeed'] == 16) & (df_test['BSeed'] == 1), \n",
    "            'Pred_Risky'] = 0 + eps\n",
    "df_test.loc[(df_test['ASeed'].isin([8, 9])) & (df_test['BSeed'] == 1), \n",
    "            'Pred_Risky'] = 0 + eps\n",
    "df_test.loc[(df_test['ASeed'] == 15) & (df_test['BSeed'] == 2), \n",
    "            'Pred_Risky'] = 0 + eps\n",
    "df_test.loc[(df_test['ASeed'] == 14) & (df_test['BSeed'] == 3), \n",
    "            'Pred_Risky'] = 0 + eps\n",
    "df_test.loc[(df_test['ASeed'] == 1) & (df_test['BSeed'] == 16), \n",
    "            'Pred_Risky'] = 1 - eps\n",
    "df_test.loc[(df_test['ASeed'] == 1) & (df_test['BSeed'].isin([8, 9])), \n",
    "            'Pred_Risky'] = 1 - eps\n",
    "df_test.loc[(df_test['ASeed'] == 2) & (df_test['BSeed'] == 15), \n",
    "            'Pred_Risky'] = 1 - eps\n",
    "df_test.loc[(df_test['ASeed'] == 3) & (df_test['BSeed'] == 14), \n",
    "            'Pred_Risky'] = 1 - eps"
   ]
  },
  {
   "cell_type": "code",
   "execution_count": 68,
   "id": "1a82646f",
   "metadata": {
    "ExecuteTime": {
     "end_time": "2022-04-10T10:24:30.546375Z",
     "start_time": "2022-04-10T10:24:30.542404Z"
    }
   },
   "outputs": [],
   "source": [
    "def show_test_res(df, df_test, pred_col):\n",
    "    temp = df[['Season', 'ATeamID', 'ASeed', 'BTeamID', 'BSeed', 'WinA']]\\\n",
    "           .merge(df_test[[pred_col, 'Season', 'ATeamID', 'BTeamID']],\n",
    "                  on=['Season', 'ATeamID', 'BTeamID'], \n",
    "                  how='inner')\n",
    "    print(log_loss(temp['WinA'], temp[pred_col]))\n",
    "    return temp.groupby('Season').apply(lambda x: log_loss(x['WinA'], x[pred_col]))"
   ]
  },
  {
   "cell_type": "code",
   "execution_count": 69,
   "id": "29dc7ea3",
   "metadata": {
    "ExecuteTime": {
     "end_time": "2022-04-10T10:24:37.317928Z",
     "start_time": "2022-04-10T10:24:37.292501Z"
    }
   },
   "outputs": [
    {
     "name": "stdout",
     "output_type": "stream",
     "text": [
      "0.3720483878210492\n"
     ]
    },
    {
     "data": {
      "text/plain": [
       "Season\n",
       "2016    0.374238\n",
       "2017    0.375372\n",
       "2018    0.391171\n",
       "2019    0.347112\n",
       "2021    0.372349\n",
       "dtype: float64"
      ]
     },
     "execution_count": 69,
     "metadata": {},
     "output_type": "execute_result"
    }
   ],
   "source": [
    "show_test_res(df, df_test, 'Pred')"
   ]
  },
  {
   "cell_type": "markdown",
   "id": "9a5ffc75",
   "metadata": {},
   "source": [
    "Results of training starting from 2016 (XGB)  \n",
    "Season  \n",
    "2016    0.374238  \n",
    "2017    0.375372  \n",
    "2018    0.391171  \n",
    "2019    0.347112  \n",
    "2021    0.372349  \n",
    "dtype: float64  "
   ]
  },
  {
   "cell_type": "markdown",
   "id": "759262b4",
   "metadata": {},
   "source": [
    "Results of training starting from 2016 (XGB) Didn't use 2021 data  \n",
    "Season  \n",
    "2016    0.378817  \n",
    "2017    0.379126  \n",
    "2018    0.394850  \n",
    "2019    0.353472  \n",
    "2021    0.378208  \n",
    "dtype: float64"
   ]
  },
  {
   "cell_type": "code",
   "execution_count": 70,
   "id": "f96a3930",
   "metadata": {
    "ExecuteTime": {
     "end_time": "2022-04-10T10:24:47.825789Z",
     "start_time": "2022-04-10T10:24:47.806745Z"
    }
   },
   "outputs": [
    {
     "name": "stdout",
     "output_type": "stream",
     "text": [
      "0.36325570170317495\n"
     ]
    },
    {
     "data": {
      "text/plain": [
       "Season\n",
       "2016    0.369481\n",
       "2017    0.369689\n",
       "2018    0.384443\n",
       "2019    0.335163\n",
       "2021    0.357503\n",
       "dtype: float64"
      ]
     },
     "execution_count": 70,
     "metadata": {},
     "output_type": "execute_result"
    }
   ],
   "source": [
    "show_test_res(df, df_test, 'Pred_Risky')"
   ]
  },
  {
   "cell_type": "markdown",
   "id": "eb3111aa",
   "metadata": {},
   "source": [
    "Results of training starting from 2016 (XGB)  \n",
    "Season  \n",
    "2016    0.369481  \n",
    "2017    0.369689  \n",
    "2018    0.384443  \n",
    "2019    0.335163  \n",
    "2021    0.357503  \n",
    "dtype: float64"
   ]
  },
  {
   "cell_type": "markdown",
   "id": "f2f39507",
   "metadata": {},
   "source": [
    "Results of training starting from 2016 (XGB) Didn't use 2021 data  \n",
    "Season  \n",
    "2016    0.372414  \n",
    "2017    0.372150  \n",
    "2018    0.386498  \n",
    "2019    0.339898  \n",
    "2021    0.361153  \n",
    "dtype: float64  "
   ]
  },
  {
   "cell_type": "markdown",
   "id": "c3a39775",
   "metadata": {},
   "source": [
    "## Submission"
   ]
  },
  {
   "cell_type": "code",
   "execution_count": 71,
   "id": "4158cc0b",
   "metadata": {
    "ExecuteTime": {
     "end_time": "2022-04-10T10:24:58.083733Z",
     "start_time": "2022-04-10T10:24:58.069848Z"
    }
   },
   "outputs": [],
   "source": [
    "df_sub = pd.read_csv(f'{directory}/WSampleSubmissionStage2.csv')"
   ]
  },
  {
   "cell_type": "code",
   "execution_count": 72,
   "id": "756f1b4d",
   "metadata": {
    "ExecuteTime": {
     "end_time": "2022-04-10T10:24:59.469602Z",
     "start_time": "2022-04-10T10:24:59.457871Z"
    }
   },
   "outputs": [],
   "source": [
    "df_sub['Season'] = df_sub['ID'].apply(lambda x: int(x.split('_')[0]))\n",
    "df_sub['ATeamID'] = df_sub['ID'].apply(lambda x: int(x.split('_')[1]))\n",
    "df_sub['BTeamID'] = df_sub['ID'].apply(lambda x: int(x.split('_')[2]))"
   ]
  },
  {
   "cell_type": "code",
   "execution_count": 73,
   "id": "3fb8ab1a",
   "metadata": {
    "ExecuteTime": {
     "end_time": "2022-04-10T10:25:01.173062Z",
     "start_time": "2022-04-10T10:25:01.154879Z"
    }
   },
   "outputs": [],
   "source": [
    "for s in ['A', 'B']:\n",
    "    df_sub = df_sub.merge(add_side(df_features_season, s),\n",
    "                          on=['Season', f'{s}TeamID'],\n",
    "                          how='left')"
   ]
  },
  {
   "cell_type": "code",
   "execution_count": 74,
   "id": "6286a6f4",
   "metadata": {
    "ExecuteTime": {
     "end_time": "2022-04-10T10:25:01.744932Z",
     "start_time": "2022-04-10T10:25:01.735684Z"
    }
   },
   "outputs": [],
   "source": [
    "df_sub = compute_diff(df_sub, diff_cols)"
   ]
  },
  {
   "cell_type": "code",
   "execution_count": 75,
   "id": "1a37f151",
   "metadata": {
    "ExecuteTime": {
     "end_time": "2022-04-10T10:25:03.867808Z",
     "start_time": "2022-04-10T10:25:03.862826Z"
    }
   },
   "outputs": [
    {
     "data": {
      "text/plain": [
       "({'APP100P', 'AScore', 'BPP100P', 'BScore', 'DiffPP100P', 'DiffScore', 'WinA'},\n",
       " {'ID', 'Pred'})"
      ]
     },
     "execution_count": 75,
     "metadata": {},
     "output_type": "execute_result"
    }
   ],
   "source": [
    "set(df.columns) - set(df_sub.columns), set(df_sub.columns) - set(df.columns)"
   ]
  },
  {
   "cell_type": "code",
   "execution_count": 76,
   "id": "5079cb45",
   "metadata": {
    "ExecuteTime": {
     "end_time": "2022-04-10T10:25:04.094929Z",
     "start_time": "2022-04-10T10:25:04.085423Z"
    }
   },
   "outputs": [],
   "source": [
    "X_sub = df_sub[features].values\n",
    "dsub = xgb.DMatrix(X_sub)"
   ]
  },
  {
   "cell_type": "code",
   "execution_count": 77,
   "id": "f0b33c6f",
   "metadata": {
    "ExecuteTime": {
     "end_time": "2022-04-10T10:25:21.317218Z",
     "start_time": "2022-04-10T10:25:06.401397Z"
    }
   },
   "outputs": [
    {
     "name": "stdout",
     "output_type": "stream",
     "text": [
      "Fold 0\n",
      "[18:25:06] WARNING: /Users/runner/miniforge3/conda-bld/xgboost-split_1645117948562/work/src/learner.cc:576: \n",
      "Parameters: { \"silent\" } might not be used.\n",
      "\n",
      "  This could be a false alarm, with some parameters getting used by language bindings but\n",
      "  then being mistakenly passed down to XGBoost core, or some parameter actually being used\n",
      "  but getting flagged wrongly here. Please open an issue if you find any such cases.\n",
      "\n",
      "\n",
      "\n",
      "Fold 1\n",
      "[18:25:10] WARNING: /Users/runner/miniforge3/conda-bld/xgboost-split_1645117948562/work/src/learner.cc:576: \n",
      "Parameters: { \"silent\" } might not be used.\n",
      "\n",
      "  This could be a false alarm, with some parameters getting used by language bindings but\n",
      "  then being mistakenly passed down to XGBoost core, or some parameter actually being used\n",
      "  but getting flagged wrongly here. Please open an issue if you find any such cases.\n",
      "\n",
      "\n",
      "\n",
      "Fold 2\n",
      "[18:25:13] WARNING: /Users/runner/miniforge3/conda-bld/xgboost-split_1645117948562/work/src/learner.cc:576: \n",
      "Parameters: { \"silent\" } might not be used.\n",
      "\n",
      "  This could be a false alarm, with some parameters getting used by language bindings but\n",
      "  then being mistakenly passed down to XGBoost core, or some parameter actually being used\n",
      "  but getting flagged wrongly here. Please open an issue if you find any such cases.\n",
      "\n",
      "\n",
      "\n",
      "Fold 3\n",
      "[18:25:15] WARNING: /Users/runner/miniforge3/conda-bld/xgboost-split_1645117948562/work/src/learner.cc:576: \n",
      "Parameters: { \"silent\" } might not be used.\n",
      "\n",
      "  This could be a false alarm, with some parameters getting used by language bindings but\n",
      "  then being mistakenly passed down to XGBoost core, or some parameter actually being used\n",
      "  but getting flagged wrongly here. Please open an issue if you find any such cases.\n",
      "\n",
      "\n",
      "\n",
      "Fold 4\n",
      "[18:25:18] WARNING: /Users/runner/miniforge3/conda-bld/xgboost-split_1645117948562/work/src/learner.cc:576: \n",
      "Parameters: { \"silent\" } might not be used.\n",
      "\n",
      "  This could be a false alarm, with some parameters getting used by language bindings but\n",
      "  then being mistakenly passed down to XGBoost core, or some parameter actually being used\n",
      "  but getting flagged wrongly here. Please open an issue if you find any such cases.\n",
      "\n",
      "\n",
      "\n"
     ]
    }
   ],
   "source": [
    "sub_models = []\n",
    "\n",
    "for i in range(n_cv):\n",
    "    print(f'Fold {i}')\n",
    "    sub_models.append(xgb.train(params=param,\n",
    "                                dtrain=dtrain,\n",
    "                                num_boost_round=int(iteration_counts[i] * 1.1),\n",
    "                                verbose_eval=50))\n",
    "    print()"
   ]
  },
  {
   "cell_type": "code",
   "execution_count": 78,
   "id": "741bbdf7",
   "metadata": {
    "ExecuteTime": {
     "end_time": "2022-04-10T10:25:21.591241Z",
     "start_time": "2022-04-10T10:25:21.320121Z"
    }
   },
   "outputs": [
    {
     "data": {
      "text/plain": [
       "(1e-05, 0.99999)"
      ]
     },
     "execution_count": 78,
     "metadata": {},
     "output_type": "execute_result"
    }
   ],
   "source": [
    "sub_preds = []\n",
    "for i in range(n_cv):\n",
    "    pp100p_diff_pred = np.clip(sub_models[i].predict(dsub), -50, 50)\n",
    "    sub_preds.append(np.clip(spline_model[i](pp100p_diff_pred), \n",
    "                             0 + eps, 1 - eps))\n",
    "    \n",
    "df_sub['Pred'] = pd.DataFrame(sub_preds).mean(axis=0)\n",
    "df_sub['Pred'].min(), df_sub['Pred'].max() "
   ]
  },
  {
   "cell_type": "code",
   "execution_count": 79,
   "id": "2564c8b9",
   "metadata": {
    "ExecuteTime": {
     "end_time": "2022-04-10T10:25:21.606993Z",
     "start_time": "2022-04-10T10:25:21.593456Z"
    }
   },
   "outputs": [],
   "source": [
    "df_sub['Pred_Risky'] = df_sub['Pred']\n",
    "df_sub.loc[(df_sub['ASeed'] == 16) & (df_sub['BSeed'] == 1), \n",
    "            'Pred_Risky'] = 0 + eps\n",
    "df_sub.loc[(df_sub['ASeed'].isin([8, 9])) & (df_sub['BSeed'] == 1), \n",
    "            'Pred_Risky'] = 0 + eps\n",
    "df_sub.loc[(df_sub['ASeed'] == 15) & (df_sub['BSeed'] == 2), \n",
    "            'Pred_Risky'] = 0 + eps\n",
    "df_sub.loc[(df_sub['ASeed'] == 14) & (df_sub['BSeed'] == 3), \n",
    "            'Pred_Risky'] = 0 + eps\n",
    "df_sub.loc[(df_sub['ASeed'] == 1) & (df_sub['BSeed'] == 16), \n",
    "            'Pred_Risky'] = 1 - eps\n",
    "df_sub.loc[(df_sub['ASeed'] == 1) & (df_sub['BSeed'].isin([8, 9])), \n",
    "            'Pred_Risky'] = 1 - eps\n",
    "df_sub.loc[(df_sub['ASeed'] == 2) & (df_sub['BSeed'] == 15), \n",
    "            'Pred_Risky'] = 1 - eps\n",
    "df_sub.loc[(df_sub['ASeed'] == 3) & (df_sub['BSeed'] == 14), \n",
    "            'Pred_Risky'] = 1 - eps"
   ]
  },
  {
   "cell_type": "code",
   "execution_count": 80,
   "id": "d8db87f4",
   "metadata": {
    "ExecuteTime": {
     "end_time": "2022-04-10T10:25:22.719234Z",
     "start_time": "2022-04-10T10:25:22.709740Z"
    }
   },
   "outputs": [
    {
     "data": {
      "text/html": [
       "<div>\n",
       "<style scoped>\n",
       "    .dataframe tbody tr th:only-of-type {\n",
       "        vertical-align: middle;\n",
       "    }\n",
       "\n",
       "    .dataframe tbody tr th {\n",
       "        vertical-align: top;\n",
       "    }\n",
       "\n",
       "    .dataframe thead th {\n",
       "        text-align: right;\n",
       "    }\n",
       "</style>\n",
       "<table border=\"1\" class=\"dataframe\">\n",
       "  <thead>\n",
       "    <tr style=\"text-align: right;\">\n",
       "      <th></th>\n",
       "      <th>ID</th>\n",
       "      <th>Pred</th>\n",
       "    </tr>\n",
       "  </thead>\n",
       "  <tbody>\n",
       "    <tr>\n",
       "      <th>0</th>\n",
       "      <td>2022_3107_3110</td>\n",
       "      <td>0.483309</td>\n",
       "    </tr>\n",
       "    <tr>\n",
       "      <th>1</th>\n",
       "      <td>2022_3107_3112</td>\n",
       "      <td>0.011496</td>\n",
       "    </tr>\n",
       "    <tr>\n",
       "      <th>2</th>\n",
       "      <td>2022_3107_3116</td>\n",
       "      <td>0.080946</td>\n",
       "    </tr>\n",
       "    <tr>\n",
       "      <th>3</th>\n",
       "      <td>2022_3107_3124</td>\n",
       "      <td>0.000845</td>\n",
       "    </tr>\n",
       "    <tr>\n",
       "      <th>4</th>\n",
       "      <td>2022_3107_3125</td>\n",
       "      <td>0.248177</td>\n",
       "    </tr>\n",
       "  </tbody>\n",
       "</table>\n",
       "</div>"
      ],
      "text/plain": [
       "               ID      Pred\n",
       "0  2022_3107_3110  0.483309\n",
       "1  2022_3107_3112  0.011496\n",
       "2  2022_3107_3116  0.080946\n",
       "3  2022_3107_3124  0.000845\n",
       "4  2022_3107_3125  0.248177"
      ]
     },
     "execution_count": 80,
     "metadata": {},
     "output_type": "execute_result"
    }
   ],
   "source": [
    "df_sub[['ID', 'Pred']].head()"
   ]
  },
  {
   "cell_type": "markdown",
   "id": "c14519b6",
   "metadata": {},
   "source": [
    "### Save"
   ]
  },
  {
   "cell_type": "code",
   "execution_count": null,
   "id": "c7b2c08c",
   "metadata": {
    "ExecuteTime": {
     "end_time": "2022-03-16T15:19:08.762703Z",
     "start_time": "2022-03-16T15:19:08.759825Z"
    }
   },
   "outputs": [],
   "source": [
    "# df_sub[['ID', 'Pred']].to_csv('ncaaw_safe.csv', index=False)"
   ]
  },
  {
   "cell_type": "code",
   "execution_count": null,
   "id": "6cad373f",
   "metadata": {
    "ExecuteTime": {
     "end_time": "2022-03-16T15:19:08.768301Z",
     "start_time": "2022-03-16T15:19:08.765545Z"
    }
   },
   "outputs": [],
   "source": [
    "# df_sub[['ID', 'Pred_Risky']].rename(columns={'Pred_Risky': 'Pred'})\\\n",
    "# .to_csv('ncaaw_risky.csv', index=False)"
   ]
  },
  {
   "cell_type": "markdown",
   "id": "425cd982",
   "metadata": {},
   "source": [
    "For tournament recap purpose"
   ]
  },
  {
   "cell_type": "code",
   "execution_count": null,
   "id": "30d460e6",
   "metadata": {
    "ExecuteTime": {
     "end_time": "2022-03-29T09:40:12.598144Z",
     "start_time": "2022-03-29T09:40:12.568793Z"
    }
   },
   "outputs": [],
   "source": [
    "# temp = df_sub[['ID', 'Pred_Risky', 'ATeamID', 'BTeamID']].rename(columns={'Pred_Risky': 'Pred'})\n",
    "# team_dict = {row[0]: row[1] for row in df_538[['TeamID', 'TeamName']].drop_duplicates().values}\n",
    "# temp['ATeam'] = temp['ATeamID'].map(team_dict)\n",
    "# temp['BTeam'] = temp['BTeamID'].map(team_dict)\n",
    "# temp[['ID', 'Pred', 'ATeam', 'ATeamID', 'BTeam', 'BTeamID']].to_csv('ncaaw_risky_full.csv', index=False)"
   ]
  },
  {
   "cell_type": "markdown",
   "id": "3d05f960",
   "metadata": {},
   "source": [
    "## Submission (The UConn/Paige Bueckers Adjustment)"
   ]
  },
  {
   "cell_type": "markdown",
   "id": "ac5c00e3",
   "metadata": {},
   "source": [
    "Since Paige Bueckers was out for the majority of the season, so adjust UConn's 538 rating to the level of Stanford/NC State for recap purpose"
   ]
  },
  {
   "cell_type": "code",
   "execution_count": 94,
   "id": "4c75d245",
   "metadata": {
    "ExecuteTime": {
     "end_time": "2022-04-10T10:32:01.486585Z",
     "start_time": "2022-04-10T10:32:01.477098Z"
    }
   },
   "outputs": [
    {
     "data": {
      "text/html": [
       "<div>\n",
       "<style scoped>\n",
       "    .dataframe tbody tr th:only-of-type {\n",
       "        vertical-align: middle;\n",
       "    }\n",
       "\n",
       "    .dataframe tbody tr th {\n",
       "        vertical-align: top;\n",
       "    }\n",
       "\n",
       "    .dataframe thead th {\n",
       "        text-align: right;\n",
       "    }\n",
       "</style>\n",
       "<table border=\"1\" class=\"dataframe\">\n",
       "  <thead>\n",
       "    <tr style=\"text-align: right;\">\n",
       "      <th></th>\n",
       "      <th>Season</th>\n",
       "      <th>Seed</th>\n",
       "      <th>TeamID</th>\n",
       "      <th>538rating</th>\n",
       "    </tr>\n",
       "  </thead>\n",
       "  <tbody>\n",
       "    <tr>\n",
       "      <th>320</th>\n",
       "      <td>2022</td>\n",
       "      <td>1</td>\n",
       "      <td>3301</td>\n",
       "      <td>101.77</td>\n",
       "    </tr>\n",
       "    <tr>\n",
       "      <th>337</th>\n",
       "      <td>2022</td>\n",
       "      <td>1</td>\n",
       "      <td>3390</td>\n",
       "      <td>101.82</td>\n",
       "    </tr>\n",
       "    <tr>\n",
       "      <th>354</th>\n",
       "      <td>2022</td>\n",
       "      <td>1</td>\n",
       "      <td>3376</td>\n",
       "      <td>106.35</td>\n",
       "    </tr>\n",
       "    <tr>\n",
       "      <th>372</th>\n",
       "      <td>2022</td>\n",
       "      <td>1</td>\n",
       "      <td>3257</td>\n",
       "      <td>97.66</td>\n",
       "    </tr>\n",
       "  </tbody>\n",
       "</table>\n",
       "</div>"
      ],
      "text/plain": [
       "     Season  Seed  TeamID  538rating\n",
       "320    2022     1    3301     101.77\n",
       "337    2022     1    3390     101.82\n",
       "354    2022     1    3376     106.35\n",
       "372    2022     1    3257      97.66"
      ]
     },
     "execution_count": 94,
     "metadata": {},
     "output_type": "execute_result"
    }
   ],
   "source": [
    "df_features_season[(df_features_season['Season'] == 2022) & \n",
    "                   (df_features_season['Seed'] == 1)][['Season', 'Seed', 'TeamID', '538rating']]"
   ]
  },
  {
   "cell_type": "code",
   "execution_count": 95,
   "id": "6a21ec05",
   "metadata": {
    "ExecuteTime": {
     "end_time": "2022-04-10T10:32:39.020505Z",
     "start_time": "2022-04-10T10:32:39.010972Z"
    }
   },
   "outputs": [
    {
     "data": {
      "text/html": [
       "<div>\n",
       "<style scoped>\n",
       "    .dataframe tbody tr th:only-of-type {\n",
       "        vertical-align: middle;\n",
       "    }\n",
       "\n",
       "    .dataframe tbody tr th {\n",
       "        vertical-align: top;\n",
       "    }\n",
       "\n",
       "    .dataframe thead th {\n",
       "        text-align: right;\n",
       "    }\n",
       "</style>\n",
       "<table border=\"1\" class=\"dataframe\">\n",
       "  <thead>\n",
       "    <tr style=\"text-align: right;\">\n",
       "      <th></th>\n",
       "      <th>Season</th>\n",
       "      <th>Seed</th>\n",
       "      <th>TeamID</th>\n",
       "      <th>538rating</th>\n",
       "    </tr>\n",
       "  </thead>\n",
       "  <tbody>\n",
       "    <tr>\n",
       "      <th>321</th>\n",
       "      <td>2022</td>\n",
       "      <td>2</td>\n",
       "      <td>3163</td>\n",
       "      <td>98.34</td>\n",
       "    </tr>\n",
       "  </tbody>\n",
       "</table>\n",
       "</div>"
      ],
      "text/plain": [
       "     Season  Seed  TeamID  538rating\n",
       "321    2022     2    3163      98.34"
      ]
     },
     "execution_count": 95,
     "metadata": {},
     "output_type": "execute_result"
    }
   ],
   "source": [
    "df_features_season[(df_features_season['Season'] == 2022) & \n",
    "                   (df_features_season['TeamID'] == 3163)][['Season', 'Seed', 'TeamID', '538rating']]"
   ]
  },
  {
   "cell_type": "code",
   "execution_count": 101,
   "id": "d1ed687c",
   "metadata": {
    "ExecuteTime": {
     "end_time": "2022-04-10T10:36:08.754391Z",
     "start_time": "2022-04-10T10:36:08.743724Z"
    }
   },
   "outputs": [
    {
     "data": {
      "text/html": [
       "<div>\n",
       "<style scoped>\n",
       "    .dataframe tbody tr th:only-of-type {\n",
       "        vertical-align: middle;\n",
       "    }\n",
       "\n",
       "    .dataframe tbody tr th {\n",
       "        vertical-align: top;\n",
       "    }\n",
       "\n",
       "    .dataframe thead th {\n",
       "        text-align: right;\n",
       "    }\n",
       "</style>\n",
       "<table border=\"1\" class=\"dataframe\">\n",
       "  <thead>\n",
       "    <tr style=\"text-align: right;\">\n",
       "      <th></th>\n",
       "      <th>Season</th>\n",
       "      <th>Seed</th>\n",
       "      <th>TeamID</th>\n",
       "      <th>538rating</th>\n",
       "    </tr>\n",
       "  </thead>\n",
       "  <tbody>\n",
       "    <tr>\n",
       "      <th>321</th>\n",
       "      <td>2022</td>\n",
       "      <td>2</td>\n",
       "      <td>3163</td>\n",
       "      <td>101.795</td>\n",
       "    </tr>\n",
       "  </tbody>\n",
       "</table>\n",
       "</div>"
      ],
      "text/plain": [
       "     Season  Seed  TeamID  538rating\n",
       "321    2022     2    3163    101.795"
      ]
     },
     "execution_count": 101,
     "metadata": {},
     "output_type": "execute_result"
    }
   ],
   "source": [
    "df_features_season_adj = df_features_season.copy()\n",
    "df_features_season_adj.loc[(df_features_season_adj['Season'] == 2022) & \n",
    "                           (df_features_season_adj['TeamID'] == 3163), '538rating'] = (101.77 + 101.82) / 2\n",
    "df_features_season_adj[(df_features_season_adj['Season'] == 2022) & \n",
    "                       (df_features_season_adj['TeamID'] == 3163)][['Season', 'Seed', 'TeamID', '538rating']]"
   ]
  },
  {
   "cell_type": "code",
   "execution_count": 102,
   "id": "fdf7b941",
   "metadata": {
    "ExecuteTime": {
     "end_time": "2022-04-10T10:36:20.270683Z",
     "start_time": "2022-04-10T10:36:20.264248Z"
    }
   },
   "outputs": [],
   "source": [
    "df_sub = pd.read_csv(f'{directory}/WSampleSubmissionStage2.csv')"
   ]
  },
  {
   "cell_type": "code",
   "execution_count": 103,
   "id": "40e46341",
   "metadata": {
    "ExecuteTime": {
     "end_time": "2022-04-10T10:36:31.515931Z",
     "start_time": "2022-04-10T10:36:31.504511Z"
    }
   },
   "outputs": [],
   "source": [
    "df_sub['Season'] = df_sub['ID'].apply(lambda x: int(x.split('_')[0]))\n",
    "df_sub['ATeamID'] = df_sub['ID'].apply(lambda x: int(x.split('_')[1]))\n",
    "df_sub['BTeamID'] = df_sub['ID'].apply(lambda x: int(x.split('_')[2]))"
   ]
  },
  {
   "cell_type": "code",
   "execution_count": 104,
   "id": "22251d1e",
   "metadata": {
    "ExecuteTime": {
     "end_time": "2022-04-10T10:36:38.524126Z",
     "start_time": "2022-04-10T10:36:38.509454Z"
    }
   },
   "outputs": [],
   "source": [
    "for s in ['A', 'B']:\n",
    "    df_sub = df_sub.merge(add_side(df_features_season_adj, s),\n",
    "                          on=['Season', f'{s}TeamID'],\n",
    "                          how='left')"
   ]
  },
  {
   "cell_type": "code",
   "execution_count": 105,
   "id": "39b6694c",
   "metadata": {
    "ExecuteTime": {
     "end_time": "2022-04-10T10:36:46.474512Z",
     "start_time": "2022-04-10T10:36:46.462917Z"
    }
   },
   "outputs": [],
   "source": [
    "df_sub = compute_diff(df_sub, diff_cols)"
   ]
  },
  {
   "cell_type": "code",
   "execution_count": 106,
   "id": "518eab93",
   "metadata": {
    "ExecuteTime": {
     "end_time": "2022-04-10T10:36:54.970964Z",
     "start_time": "2022-04-10T10:36:54.959793Z"
    }
   },
   "outputs": [],
   "source": [
    "X_sub = df_sub[features].values\n",
    "dsub = xgb.DMatrix(X_sub)"
   ]
  },
  {
   "cell_type": "code",
   "execution_count": 107,
   "id": "33eacbf6",
   "metadata": {
    "ExecuteTime": {
     "end_time": "2022-04-10T10:37:17.975161Z",
     "start_time": "2022-04-10T10:37:00.518808Z"
    }
   },
   "outputs": [
    {
     "name": "stdout",
     "output_type": "stream",
     "text": [
      "Fold 0\n",
      "[18:37:00] WARNING: /Users/runner/miniforge3/conda-bld/xgboost-split_1645117948562/work/src/learner.cc:576: \n",
      "Parameters: { \"silent\" } might not be used.\n",
      "\n",
      "  This could be a false alarm, with some parameters getting used by language bindings but\n",
      "  then being mistakenly passed down to XGBoost core, or some parameter actually being used\n",
      "  but getting flagged wrongly here. Please open an issue if you find any such cases.\n",
      "\n",
      "\n",
      "\n",
      "Fold 1\n",
      "[18:37:05] WARNING: /Users/runner/miniforge3/conda-bld/xgboost-split_1645117948562/work/src/learner.cc:576: \n",
      "Parameters: { \"silent\" } might not be used.\n",
      "\n",
      "  This could be a false alarm, with some parameters getting used by language bindings but\n",
      "  then being mistakenly passed down to XGBoost core, or some parameter actually being used\n",
      "  but getting flagged wrongly here. Please open an issue if you find any such cases.\n",
      "\n",
      "\n",
      "\n",
      "Fold 2\n",
      "[18:37:08] WARNING: /Users/runner/miniforge3/conda-bld/xgboost-split_1645117948562/work/src/learner.cc:576: \n",
      "Parameters: { \"silent\" } might not be used.\n",
      "\n",
      "  This could be a false alarm, with some parameters getting used by language bindings but\n",
      "  then being mistakenly passed down to XGBoost core, or some parameter actually being used\n",
      "  but getting flagged wrongly here. Please open an issue if you find any such cases.\n",
      "\n",
      "\n",
      "\n",
      "Fold 3\n",
      "[18:37:11] WARNING: /Users/runner/miniforge3/conda-bld/xgboost-split_1645117948562/work/src/learner.cc:576: \n",
      "Parameters: { \"silent\" } might not be used.\n",
      "\n",
      "  This could be a false alarm, with some parameters getting used by language bindings but\n",
      "  then being mistakenly passed down to XGBoost core, or some parameter actually being used\n",
      "  but getting flagged wrongly here. Please open an issue if you find any such cases.\n",
      "\n",
      "\n",
      "\n",
      "Fold 4\n",
      "[18:37:14] WARNING: /Users/runner/miniforge3/conda-bld/xgboost-split_1645117948562/work/src/learner.cc:576: \n",
      "Parameters: { \"silent\" } might not be used.\n",
      "\n",
      "  This could be a false alarm, with some parameters getting used by language bindings but\n",
      "  then being mistakenly passed down to XGBoost core, or some parameter actually being used\n",
      "  but getting flagged wrongly here. Please open an issue if you find any such cases.\n",
      "\n",
      "\n",
      "\n"
     ]
    }
   ],
   "source": [
    "sub_models = []\n",
    "\n",
    "for i in range(n_cv):\n",
    "    print(f'Fold {i}')\n",
    "    sub_models.append(xgb.train(params=param,\n",
    "                                dtrain=dtrain,\n",
    "                                num_boost_round=int(iteration_counts[i] * 1.1),\n",
    "                                verbose_eval=50))\n",
    "    print()"
   ]
  },
  {
   "cell_type": "code",
   "execution_count": 108,
   "id": "9ba7a55e",
   "metadata": {
    "ExecuteTime": {
     "end_time": "2022-04-10T10:37:18.264371Z",
     "start_time": "2022-04-10T10:37:17.977335Z"
    }
   },
   "outputs": [
    {
     "data": {
      "text/plain": [
       "(1e-05, 0.99999)"
      ]
     },
     "execution_count": 108,
     "metadata": {},
     "output_type": "execute_result"
    }
   ],
   "source": [
    "sub_preds = []\n",
    "for i in range(n_cv):\n",
    "    pp100p_diff_pred = np.clip(sub_models[i].predict(dsub), -50, 50)\n",
    "    sub_preds.append(np.clip(spline_model[i](pp100p_diff_pred), \n",
    "                             0 + eps, 1 - eps))\n",
    "    \n",
    "df_sub['Pred'] = pd.DataFrame(sub_preds).mean(axis=0)\n",
    "df_sub['Pred'].min(), df_sub['Pred'].max() "
   ]
  },
  {
   "cell_type": "code",
   "execution_count": 109,
   "id": "3b5c6ad4",
   "metadata": {
    "ExecuteTime": {
     "end_time": "2022-04-10T10:37:20.086482Z",
     "start_time": "2022-04-10T10:37:20.075459Z"
    }
   },
   "outputs": [],
   "source": [
    "df_sub['Pred_Risky'] = df_sub['Pred']\n",
    "df_sub.loc[(df_sub['ASeed'] == 16) & (df_sub['BSeed'] == 1), \n",
    "            'Pred_Risky'] = 0 + eps\n",
    "df_sub.loc[(df_sub['ASeed'].isin([8, 9])) & (df_sub['BSeed'] == 1), \n",
    "            'Pred_Risky'] = 0 + eps\n",
    "df_sub.loc[(df_sub['ASeed'] == 15) & (df_sub['BSeed'] == 2), \n",
    "            'Pred_Risky'] = 0 + eps\n",
    "df_sub.loc[(df_sub['ASeed'] == 14) & (df_sub['BSeed'] == 3), \n",
    "            'Pred_Risky'] = 0 + eps\n",
    "df_sub.loc[(df_sub['ASeed'] == 1) & (df_sub['BSeed'] == 16), \n",
    "            'Pred_Risky'] = 1 - eps\n",
    "df_sub.loc[(df_sub['ASeed'] == 1) & (df_sub['BSeed'].isin([8, 9])), \n",
    "            'Pred_Risky'] = 1 - eps\n",
    "df_sub.loc[(df_sub['ASeed'] == 2) & (df_sub['BSeed'] == 15), \n",
    "            'Pred_Risky'] = 1 - eps\n",
    "df_sub.loc[(df_sub['ASeed'] == 3) & (df_sub['BSeed'] == 14), \n",
    "            'Pred_Risky'] = 1 - eps"
   ]
  },
  {
   "cell_type": "code",
   "execution_count": null,
   "id": "a51df0bb",
   "metadata": {
    "ExecuteTime": {
     "end_time": "2022-04-10T10:37:41.189941Z",
     "start_time": "2022-04-10T10:37:41.160313Z"
    }
   },
   "outputs": [],
   "source": [
    "# temp = df_sub[['ID', 'Pred_Risky', 'ATeamID', 'BTeamID']].rename(columns={'Pred_Risky': 'Pred'})\n",
    "# team_dict = {row[0]: row[1] for row in df_538[['TeamID', 'TeamName']].drop_duplicates().values}\n",
    "# temp['ATeam'] = temp['ATeamID'].map(team_dict)\n",
    "# temp['BTeam'] = temp['BTeamID'].map(team_dict)\n",
    "# temp[['ID', 'Pred', 'ATeam', 'ATeamID', 'BTeam', 'BTeamID']].to_csv('ncaaw_risky_full_uconn.csv', index=False)"
   ]
  }
 ],
 "metadata": {
  "kernelspec": {
   "display_name": "Python 3 (ipykernel)",
   "language": "python",
   "name": "python3"
  },
  "language_info": {
   "codemirror_mode": {
    "name": "ipython",
    "version": 3
   },
   "file_extension": ".py",
   "mimetype": "text/x-python",
   "name": "python",
   "nbconvert_exporter": "python",
   "pygments_lexer": "ipython3",
   "version": "3.8.12"
  }
 },
 "nbformat": 4,
 "nbformat_minor": 5
}
